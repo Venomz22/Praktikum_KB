{
 "cells": [
  {
   "cell_type": "markdown",
   "id": "b20bb6d6-6191-42e8-956e-61df43a5fcf1",
   "metadata": {},
   "source": [
    "# Nama : Dimas Arya Nugraha"
   ]
  },
  {
   "cell_type": "markdown",
   "id": "0f9c18b9-1933-4b0c-abb4-f20239e866d8",
   "metadata": {},
   "source": [
    "# Nim : 2109106019"
   ]
  },
  {
   "cell_type": "markdown",
   "id": "75a830a4-dbc5-4329-91a0-0bc29512169b",
   "metadata": {},
   "source": [
    "# Kelas : Informatika A'21"
   ]
  },
  {
   "cell_type": "markdown",
   "id": "41ef1681-70f8-4687-b0ec-60a038ff0ecb",
   "metadata": {},
   "source": [
    "# Posttest 7 : Tensorflow"
   ]
  },
  {
   "cell_type": "markdown",
   "id": "f67e4c6c-8f27-494a-964f-e19084a746d1",
   "metadata": {},
   "source": [
    "#"
   ]
  },
  {
   "cell_type": "markdown",
   "id": "5b57ca2f-0a4f-45e9-96d8-37a29746df01",
   "metadata": {},
   "source": [
    "# Import Library"
   ]
  },
  {
   "cell_type": "code",
   "execution_count": 38,
   "id": "2ae631ff-eb18-49c9-a4d3-3cc006652f18",
   "metadata": {},
   "outputs": [],
   "source": [
    "import tensorflow as tf\n",
    "import numpy as np"
   ]
  },
  {
   "cell_type": "markdown",
   "id": "94cb14ba-af94-47d4-8cbe-0a13ee7d7d08",
   "metadata": {},
   "source": [
    "#"
   ]
  },
  {
   "cell_type": "markdown",
   "id": "571ad5a2-b47b-4090-ab6d-d8f060940a53",
   "metadata": {},
   "source": [
    "# 1. Membuat sebuah tensor dengan shape (5,5) dengan nilai random yang disimpan dalam variabel random_tensor"
   ]
  },
  {
   "cell_type": "code",
   "execution_count": 39,
   "id": "8ff3ac9c-c9ac-44f8-80da-5826883bff32",
   "metadata": {},
   "outputs": [
    {
     "data": {
      "text/plain": [
       "array([[-0.09829053,  1.2328393 ,  1.0841055 , -0.03147423,  0.8239386 ],\n",
       "       [-1.343977  , -0.5825029 , -1.2442445 ,  0.78904885, -1.5128906 ],\n",
       "       [ 2.1204236 ,  0.8943947 , -0.08512403, -3.0256145 ,  0.0541295 ],\n",
       "       [ 0.4327671 , -0.29732513,  0.9791035 ,  1.6596949 ,  0.11454969],\n",
       "       [ 0.01530319, -0.2602644 , -0.7217767 , -0.8932251 ,  0.35070774]],\n",
       "      dtype=float32)"
      ]
     },
     "execution_count": 39,
     "metadata": {},
     "output_type": "execute_result"
    }
   ],
   "source": [
    "random_tensor = tf.random.normal([5,5], mean=0., stddev=1., seed=1)\n",
    "random_tensor.numpy()"
   ]
  },
  {
   "cell_type": "code",
   "execution_count": 40,
   "id": "a38d9cb8-f6fb-490d-a015-7398f8c913f6",
   "metadata": {},
   "outputs": [
    {
     "data": {
      "text/plain": [
       "array([[ 1,  2,  3,  4,  5],\n",
       "       [ 6,  7,  8,  9, 10],\n",
       "       [11, 12, 13, 14, 15],\n",
       "       [16, 17, 18, 19, 20],\n",
       "       [21, 22, 23, 24, 25]])"
      ]
     },
     "execution_count": 40,
     "metadata": {},
     "output_type": "execute_result"
    }
   ],
   "source": [
    "list_utt = [[1,2,3,4,5],[6,7,8,9,10],[11,12,13,14,15],[16,17,18,19,20],[21,22,23,24,25]]\n",
    "\n",
    "utt = tf.convert_to_tensor(list_utt)\n",
    "utt.numpy()"
   ]
  },
  {
   "cell_type": "code",
   "execution_count": 41,
   "id": "15cad42e-80cc-4c5d-857a-94dec9de772c",
   "metadata": {},
   "outputs": [
    {
     "data": {
      "text/plain": [
       "array([[[ 0.9409927 , -1.5170689 ,  0.18557556,  1.2530341 ,\n",
       "          1.9363809 ],\n",
       "        [-0.7988196 , -0.7972447 , -0.28352404, -0.80268157,\n",
       "          0.7863386 ],\n",
       "        [-0.40598786, -0.7324708 ,  0.14650163,  0.4634121 ,\n",
       "         -0.0721753 ],\n",
       "        [ 0.09316005,  0.6003364 , -0.7321259 , -0.94157374,\n",
       "          1.2275326 ],\n",
       "        [ 0.04960457,  0.5253416 , -2.3639956 ,  0.27520692,\n",
       "          1.8701777 ]],\n",
       "\n",
       "       [[-1.0425793 , -0.02102177, -0.20001023, -1.3953463 ,\n",
       "          0.8258715 ],\n",
       "        [-0.17418545, -1.2276788 , -0.5240789 , -1.5253825 ,\n",
       "          0.9314845 ],\n",
       "        [-0.57686144, -1.3870463 ,  0.41863173,  0.34450477,\n",
       "          0.7608774 ],\n",
       "        [ 0.8999918 ,  1.3924136 , -2.1533494 ,  0.30152616,\n",
       "          0.8976059 ],\n",
       "        [ 0.8920964 , -1.1558073 , -0.42994562,  0.58900464,\n",
       "         -0.19109857]],\n",
       "\n",
       "       [[ 0.9623473 , -0.609431  ,  0.50142   , -0.0145657 ,\n",
       "         -1.0211928 ],\n",
       "        [ 2.384155  , -1.0210652 ,  1.4938141 ,  0.93606496,\n",
       "          0.46287864],\n",
       "        [-0.14572863,  0.3671695 , -1.3526266 ,  0.19628999,\n",
       "          1.5746385 ],\n",
       "        [-0.8652125 , -0.26479527,  1.3862567 ,  1.2539145 ,\n",
       "          0.27839005],\n",
       "        [-1.4489396 ,  0.51224667, -0.29424906, -0.4277893 ,\n",
       "         -0.6452919 ]],\n",
       "\n",
       "       [[-0.49313986,  0.9137734 , -1.7176123 , -0.49564785,\n",
       "         -1.4302824 ],\n",
       "        [ 1.5258667 ,  0.77167577,  2.5452578 , -1.132935  ,\n",
       "         -1.1994625 ],\n",
       "        [ 0.01916992, -0.18794642, -0.46912897,  0.61926097,\n",
       "         -0.450291  ],\n",
       "        [ 0.5369638 ,  0.9144578 , -0.10366473,  0.36356086,\n",
       "          1.5026867 ],\n",
       "        [-1.560917  ,  0.27121785,  0.7796446 , -0.9606049 ,\n",
       "         -0.99626255]],\n",
       "\n",
       "       [[-1.4184211 , -1.1707584 ,  1.0015322 ,  1.5556508 ,\n",
       "          1.2642976 ],\n",
       "        [ 0.31908742, -0.3064414 , -0.85276127, -0.00773697,\n",
       "         -0.01793448],\n",
       "        [-0.7102787 ,  0.7113245 ,  0.7207577 ,  0.25339675,\n",
       "         -0.9933147 ],\n",
       "        [ 0.5184074 , -0.12890376, -0.41760632,  0.68855923,\n",
       "          0.2768272 ],\n",
       "        [-2.0920382 ,  0.38982192,  0.9442976 , -0.2836874 ,\n",
       "         -0.14148119]]], dtype=float32)"
      ]
     },
     "execution_count": 41,
     "metadata": {},
     "output_type": "execute_result"
    }
   ],
   "source": [
    "slicing = tf.random.normal([5,5,5])\n",
    "slicing.numpy()"
   ]
  },
  {
   "cell_type": "code",
   "execution_count": 42,
   "id": "e613cd90-4257-4b95-b3f9-e79f852e0e77",
   "metadata": {},
   "outputs": [
    {
     "data": {
      "text/plain": [
       "array([[[ 0.9623473 , -0.609431  ,  0.50142   , -0.0145657 ,\n",
       "         -1.0211928 ],\n",
       "        [ 2.384155  , -1.0210652 ,  1.4938141 ,  0.93606496,\n",
       "          0.46287864],\n",
       "        [-0.14572863,  0.3671695 , -1.3526266 ,  0.19628999,\n",
       "          1.5746385 ],\n",
       "        [-0.8652125 , -0.26479527,  1.3862567 ,  1.2539145 ,\n",
       "          0.27839005],\n",
       "        [-1.4489396 ,  0.51224667, -0.29424906, -0.4277893 ,\n",
       "         -0.6452919 ]],\n",
       "\n",
       "       [[ 0.9623473 , -0.609431  ,  0.50142   , -0.0145657 ,\n",
       "         -1.0211928 ],\n",
       "        [ 2.384155  , -1.0210652 ,  1.4938141 ,  0.93606496,\n",
       "          0.46287864],\n",
       "        [-0.14572863,  0.3671695 , -1.3526266 ,  0.19628999,\n",
       "          1.5746385 ],\n",
       "        [-0.8652125 , -0.26479527,  1.3862567 ,  1.2539145 ,\n",
       "          0.27839005],\n",
       "        [-1.4489396 ,  0.51224667, -0.29424906, -0.4277893 ,\n",
       "         -0.6452919 ]],\n",
       "\n",
       "       [[ 0.9623473 , -0.609431  ,  0.50142   , -0.0145657 ,\n",
       "         -1.0211928 ],\n",
       "        [ 2.384155  , -1.0210652 ,  1.4938141 ,  0.93606496,\n",
       "          0.46287864],\n",
       "        [-0.14572863,  0.3671695 , -1.3526266 ,  0.19628999,\n",
       "          1.5746385 ],\n",
       "        [-0.8652125 , -0.26479527,  1.3862567 ,  1.2539145 ,\n",
       "          0.27839005],\n",
       "        [-1.4489396 ,  0.51224667, -0.29424906, -0.4277893 ,\n",
       "         -0.6452919 ]]], dtype=float32)"
      ]
     },
     "execution_count": 42,
     "metadata": {},
     "output_type": "execute_result"
    }
   ],
   "source": [
    "tf.gather(slicing, indices=[2,2,2]).numpy()"
   ]
  },
  {
   "cell_type": "code",
   "execution_count": 43,
   "id": "23e66a1b-52e7-4e36-ae90-72523b61ef6d",
   "metadata": {},
   "outputs": [
    {
     "data": {
      "text/plain": [
       "array([[-0.40598786, -0.7324708 ,  0.14650163,  0.4634121 , -0.0721753 ],\n",
       "       [-0.57686144, -1.3870463 ,  0.41863173,  0.34450477,  0.7608774 ],\n",
       "       [-0.14572863,  0.3671695 , -1.3526266 ,  0.19628999,  1.5746385 ],\n",
       "       [ 0.01916992, -0.18794642, -0.46912897,  0.61926097, -0.450291  ],\n",
       "       [-0.7102787 ,  0.7113245 ,  0.7207577 ,  0.25339675, -0.9933147 ]],\n",
       "      dtype=float32)"
      ]
     },
     "execution_count": 43,
     "metadata": {},
     "output_type": "execute_result"
    }
   ],
   "source": [
    "tf.gather_nd(slicing, indices=[[0,2],[1,2],[2,2],[3,2],[4,2]]).numpy()"
   ]
  },
  {
   "cell_type": "code",
   "execution_count": 44,
   "id": "ff7e36b0-79ba-4a6c-9d29-ebf5ab741cb5",
   "metadata": {},
   "outputs": [
    {
     "data": {
      "text/plain": [
       "array([ 0.14650163,  0.41863173, -1.3526266 , -0.46912897,  0.7207577 ],\n",
       "      dtype=float32)"
      ]
     },
     "execution_count": 44,
     "metadata": {},
     "output_type": "execute_result"
    }
   ],
   "source": [
    "tf.gather_nd(slicing, indices=[[0,2,2],[1,2,2],[2,2,2],[3,2,2],[4,2,2]]).numpy()"
   ]
  },
  {
   "cell_type": "markdown",
   "id": "450e450e-e805-4d88-9255-ad3be2ee355b",
   "metadata": {},
   "source": [
    "# "
   ]
  },
  {
   "cell_type": "markdown",
   "id": "18855dc4-269e-4cb8-a8d1-4a1971f4e99e",
   "metadata": {},
   "source": [
    "# 2. Membuat tensor dengan shape(5,5) dari list dengan nilai bilangan prima dalam variabel prime_tensor"
   ]
  },
  {
   "cell_type": "code",
   "execution_count": 45,
   "id": "99de06c1-b743-45b5-8091-817cca38856a",
   "metadata": {},
   "outputs": [
    {
     "data": {
      "text/plain": [
       "array([[  2.,   3.,   5.,   7.,  11.],\n",
       "       [ 13.,  17.,  19.,  23.,  29.],\n",
       "       [ 31.,  37.,  41.,  43.,  47.],\n",
       "       [ 53.,  59.,  61.,  71.,  73.],\n",
       "       [ 79.,  83.,  89.,  97., 101.]], dtype=float32)"
      ]
     },
     "execution_count": 45,
     "metadata": {},
     "output_type": "execute_result"
    }
   ],
   "source": [
    "list_prime = [[2, 3, 5, 7, 11],[13, 17, 19, 23, 29],[31, 37, 41, 43, 47],[53, 59, 61, 71, 73],[79, 83, 89, 97, 101]]\n",
    "prime_tensor = tf.constant(list_prime, dtype=tf.float32)\n",
    "prime_tensor.numpy()"
   ]
  },
  {
   "cell_type": "markdown",
   "id": "86b5216a-a97c-4b88-9275-0b5a75ead959",
   "metadata": {},
   "source": [
    "#"
   ]
  },
  {
   "cell_type": "markdown",
   "id": "9f1f8bcd-f7a7-4da8-8706-d55d36e8cd31",
   "metadata": {},
   "source": [
    "# 3.Menampilkan dimensi dari kedua variabel (random dan prime tensor)"
   ]
  },
  {
   "cell_type": "code",
   "execution_count": 46,
   "id": "d9dd7794-02fd-43bb-b15a-cdd5002b4f2c",
   "metadata": {},
   "outputs": [
    {
     "data": {
      "text/plain": [
       "TensorShape([5, 5])"
      ]
     },
     "execution_count": 46,
     "metadata": {},
     "output_type": "execute_result"
    }
   ],
   "source": [
    "random_tensor.shape"
   ]
  },
  {
   "cell_type": "code",
   "execution_count": 47,
   "id": "e756b03f-2ca9-4bf1-b6bb-28449c934db7",
   "metadata": {},
   "outputs": [
    {
     "data": {
      "text/plain": [
       "TensorShape([5, 5])"
      ]
     },
     "execution_count": 47,
     "metadata": {},
     "output_type": "execute_result"
    }
   ],
   "source": [
    "prime_tensor.shape"
   ]
  },
  {
   "cell_type": "markdown",
   "id": "033a2d1b-f87d-41a9-98fb-10b4353850eb",
   "metadata": {},
   "source": [
    "#"
   ]
  },
  {
   "cell_type": "markdown",
   "id": "642f47d1-3893-46b9-bc2b-4f1ce63a5775",
   "metadata": {},
   "source": [
    "# 4. Menampilkan Hasil perhitungan aritmatika menggunakan 2 variabel tadi (Random dan Prime) minimal 5 operator"
   ]
  },
  {
   "cell_type": "code",
   "execution_count": 48,
   "id": "5c3dd79a-34a6-4921-9fcf-60d6394d2400",
   "metadata": {},
   "outputs": [
    {
     "name": "stdout",
     "output_type": "stream",
     "text": [
      "1. Penjumlahan : tf.Tensor(\n",
      "[[  1.9017094   4.2328396   6.0841055   6.968526   11.823938 ]\n",
      " [ 11.656023   16.417498   17.755756   23.78905    27.48711  ]\n",
      " [ 33.120422   37.894394   40.914875   39.974384   47.05413  ]\n",
      " [ 53.432766   58.702675   61.979103   72.6597     73.11455  ]\n",
      " [ 79.015305   82.73974    88.27822    96.10677   101.35071  ]], shape=(5, 5), dtype=float32)\n",
      "\n",
      "2. Pengurangan : tf.Tensor(\n",
      "[[  2.0982904   1.7671607   3.9158945   7.031474   10.176062 ]\n",
      " [ 14.343977   17.582502   20.244244   22.21095    30.51289  ]\n",
      " [ 28.879576   36.105606   41.085125   46.025616   46.94587  ]\n",
      " [ 52.567234   59.297325   60.020897   69.3403     72.88545  ]\n",
      " [ 78.984695   83.26026    89.72178    97.89323   100.64929  ]], shape=(5, 5), dtype=float32)\n",
      "\n",
      "3. Perkalian : tf.Tensor(\n",
      "[[  -0.19658105    3.698518      5.4205275    -0.2203196     9.063325  ]\n",
      " [ -17.4717       -9.90255     -23.640644     18.148123    -43.873825  ]\n",
      " [  65.73313      33.092606     -3.4900854  -130.10143       2.5440862 ]\n",
      " [  22.936655    -17.542183     59.725315    117.83834       8.362127  ]\n",
      " [   1.2089516   -21.601944    -64.23813     -86.64283      35.421482  ]], shape=(5, 5), dtype=float32)\n",
      "\n",
      "4. Pembagian : tf.Tensor(\n",
      "[[-2.0347841e+01  2.4334071e+00  4.6120973e+00 -2.2240417e+02\n",
      "   1.3350510e+01]\n",
      " [-9.6727848e+00 -2.9184404e+01 -1.5270311e+01  2.9149019e+01\n",
      "  -1.9168604e+01]\n",
      " [ 1.4619720e+01  4.1368759e+01 -4.8165012e+02 -1.4211989e+01\n",
      "   8.6828815e+02]\n",
      " [ 1.2246772e+02 -1.9843596e+02  6.2301891e+01  4.2778946e+01\n",
      "   6.3727802e+02]\n",
      " [ 5.1623242e+03 -3.1890646e+02 -1.2330683e+02 -1.0859525e+02\n",
      "   2.8798907e+02]], shape=(5, 5), dtype=float32)\n",
      "\n",
      "5. Pangkat : tf.Tensor(\n",
      "[[9.3413919e-01 3.8744838e+00 5.7247591e+00 9.4059181e-01 7.2117996e+00]\n",
      " [3.1833600e-02 1.9198175e-01 2.5639994e-02 1.1870522e+01 6.1312900e-03]\n",
      " [1.4531769e+03 2.5269190e+01 7.2897619e-01 1.1422316e-05 1.2317138e+00]\n",
      " [5.5745506e+00 2.9749605e-01 5.5978687e+01 1.1817457e+03 1.6347188e+00]\n",
      " [1.0691527e+00 3.1661558e-01 3.9171994e-02 1.6802181e-02 5.0458117e+00]], shape=(5, 5), dtype=float32)\n",
      "\n",
      "6. Setara : tf.Tensor(\n",
      "[[False False False False False]\n",
      " [False False False False False]\n",
      " [False False False False False]\n",
      " [False False False False False]\n",
      " [False False False False False]], shape=(5, 5), dtype=bool)\n",
      "\n",
      "7. Tidak Setara : tf.Tensor(\n",
      "[[ True  True  True  True  True]\n",
      " [ True  True  True  True  True]\n",
      " [ True  True  True  True  True]\n",
      " [ True  True  True  True  True]\n",
      " [ True  True  True  True  True]], shape=(5, 5), dtype=bool)\n",
      "\n",
      "8. Less : tf.Tensor(\n",
      "[[False False False False False]\n",
      " [False False False False False]\n",
      " [False False False False False]\n",
      " [False False False False False]\n",
      " [False False False False False]], shape=(5, 5), dtype=bool)\n",
      "\n",
      "9. Maximum : tf.Tensor(\n",
      "[[  2.   3.   5.   7.  11.]\n",
      " [ 13.  17.  19.  23.  29.]\n",
      " [ 31.  37.  41.  43.  47.]\n",
      " [ 53.  59.  61.  71.  73.]\n",
      " [ 79.  83.  89.  97. 101.]], shape=(5, 5), dtype=float32)\n",
      "\n",
      "10. Minimum : tf.Tensor(\n",
      "[[-0.09829053  1.2328393   1.0841055  -0.03147423  0.8239386 ]\n",
      " [-1.343977   -0.5825029  -1.2442445   0.78904885 -1.5128906 ]\n",
      " [ 2.1204236   0.8943947  -0.08512403 -3.0256145   0.0541295 ]\n",
      " [ 0.4327671  -0.29732513  0.9791035   1.6596949   0.11454969]\n",
      " [ 0.01530319 -0.2602644  -0.7217767  -0.8932251   0.35070774]], shape=(5, 5), dtype=float32)\n"
     ]
    }
   ],
   "source": [
    "print(\"1. Penjumlahan :\",tf.add(prime_tensor,random_tensor))\n",
    "print(\"\\n2. Pengurangan :\",tf.subtract(prime_tensor,random_tensor))\n",
    "print(\"\\n3. Perkalian :\",tf.multiply(prime_tensor,random_tensor))\n",
    "print(\"\\n4. Pembagian :\",tf.divide(prime_tensor,random_tensor))\n",
    "print(\"\\n5. Pangkat :\",tf.pow(prime_tensor,random_tensor))\n",
    "print(\"\\n6. Setara :\",tf.equal(prime_tensor,random_tensor))\n",
    "print(\"\\n7. Tidak Setara :\",tf.not_equal(prime_tensor,random_tensor))\n",
    "print(\"\\n8. Less :\",tf.math.less(prime_tensor,random_tensor))\n",
    "print(\"\\n9. Maximum :\",tf.math.maximum(prime_tensor,random_tensor))\n",
    "print(\"\\n10. Minimum :\",tf.math.minimum(prime_tensor,random_tensor))"
   ]
  },
  {
   "cell_type": "markdown",
   "id": "d80d009a-92ec-40f0-9890-961fec2713a4",
   "metadata": {},
   "source": [
    "#"
   ]
  },
  {
   "cell_type": "markdown",
   "id": "48e189ef-0f83-4a60-bbd6-f7d558ff85a2",
   "metadata": {},
   "source": [
    "# 5. Tampilkan Nilai Maksimal dan Minimal dari variabel random_tensor"
   ]
  },
  {
   "cell_type": "markdown",
   "id": "e274471a-4f71-45f0-baa7-022e399d4722",
   "metadata": {},
   "source": [
    "### Maximal"
   ]
  },
  {
   "cell_type": "code",
   "execution_count": 49,
   "id": "42739dd8-4a4e-400b-bfb3-f8753ae4031a",
   "metadata": {},
   "outputs": [
    {
     "data": {
      "text/plain": [
       "array([2, 0, 0, 3, 0], dtype=int64)"
      ]
     },
     "execution_count": 49,
     "metadata": {},
     "output_type": "execute_result"
    }
   ],
   "source": [
    "# Max Baris\n",
    "tf.argmax(random_tensor, axis=0).numpy()\n"
   ]
  },
  {
   "cell_type": "code",
   "execution_count": 50,
   "id": "93803fdf-a716-4695-90d4-aaf7bbf476bd",
   "metadata": {},
   "outputs": [
    {
     "data": {
      "text/plain": [
       "array([1, 3, 0, 3, 4], dtype=int64)"
      ]
     },
     "execution_count": 50,
     "metadata": {},
     "output_type": "execute_result"
    }
   ],
   "source": [
    "# Max Kolom\n",
    "tf.argmax(random_tensor, axis=1).numpy()"
   ]
  },
  {
   "cell_type": "markdown",
   "id": "a87bf60e-debd-47fd-b38a-8f972bb6ecac",
   "metadata": {},
   "source": [
    "### Minimal"
   ]
  },
  {
   "cell_type": "code",
   "execution_count": 51,
   "id": "678bf9f6-40ed-4d26-a1ad-8565bbc72c11",
   "metadata": {},
   "outputs": [
    {
     "data": {
      "text/plain": [
       "array([1, 1, 1, 2, 1], dtype=int64)"
      ]
     },
     "execution_count": 51,
     "metadata": {},
     "output_type": "execute_result"
    }
   ],
   "source": [
    "# Min baris\n",
    "tf.argmin(random_tensor, axis=0).numpy()"
   ]
  },
  {
   "cell_type": "code",
   "execution_count": 52,
   "id": "7e799d5a-ea8b-4aa6-a2a0-9ce50d9281aa",
   "metadata": {},
   "outputs": [
    {
     "data": {
      "text/plain": [
       "array([0, 4, 3, 1, 3], dtype=int64)"
      ]
     },
     "execution_count": 52,
     "metadata": {},
     "output_type": "execute_result"
    }
   ],
   "source": [
    "# Min kolom\n",
    "tf.argmin(random_tensor, axis=1).numpy()"
   ]
  },
  {
   "cell_type": "markdown",
   "id": "cf685b99-d232-423e-9e48-38968215cc24",
   "metadata": {},
   "source": [
    "#"
   ]
  },
  {
   "cell_type": "markdown",
   "id": "18bb3337-0918-4b03-8ad0-b3ce3038ea44",
   "metadata": {},
   "source": [
    "# 6. Menampilkan hasil penggabungan variabel Random_tensor dengan Prime_tensor (concatenation)"
   ]
  },
  {
   "cell_type": "markdown",
   "id": "11cf5e57-aeb4-45ba-b7a5-7ee25ff9cb80",
   "metadata": {},
   "source": [
    "## Penggabungan baris"
   ]
  },
  {
   "cell_type": "code",
   "execution_count": 53,
   "id": "c42ebf29-5142-426b-82d1-ec2cba9932f2",
   "metadata": {},
   "outputs": [
    {
     "data": {
      "text/plain": [
       "array([[-9.8290525e-02,  1.2328393e+00,  1.0841055e+00, -3.1474229e-02,\n",
       "         8.2393861e-01],\n",
       "       [-1.3439770e+00, -5.8250290e-01, -1.2442445e+00,  7.8904885e-01,\n",
       "        -1.5128906e+00],\n",
       "       [ 2.1204236e+00,  8.9439470e-01, -8.5124031e-02, -3.0256145e+00,\n",
       "         5.4129496e-02],\n",
       "       [ 4.3276709e-01, -2.9732513e-01,  9.7910351e-01,  1.6596949e+00,\n",
       "         1.1454969e-01],\n",
       "       [ 1.5303185e-02, -2.6026440e-01, -7.2177672e-01, -8.9322507e-01,\n",
       "         3.5070774e-01],\n",
       "       [ 2.0000000e+00,  3.0000000e+00,  5.0000000e+00,  7.0000000e+00,\n",
       "         1.1000000e+01],\n",
       "       [ 1.3000000e+01,  1.7000000e+01,  1.9000000e+01,  2.3000000e+01,\n",
       "         2.9000000e+01],\n",
       "       [ 3.1000000e+01,  3.7000000e+01,  4.1000000e+01,  4.3000000e+01,\n",
       "         4.7000000e+01],\n",
       "       [ 5.3000000e+01,  5.9000000e+01,  6.1000000e+01,  7.1000000e+01,\n",
       "         7.3000000e+01],\n",
       "       [ 7.9000000e+01,  8.3000000e+01,  8.9000000e+01,  9.7000000e+01,\n",
       "         1.0100000e+02]], dtype=float32)"
      ]
     },
     "execution_count": 53,
     "metadata": {},
     "output_type": "execute_result"
    }
   ],
   "source": [
    "tf.concat([random_tensor,prime_tensor], axis=0).numpy()"
   ]
  },
  {
   "cell_type": "markdown",
   "id": "c4142a1e-8c68-498e-9966-17826c4f4d3d",
   "metadata": {},
   "source": [
    "##"
   ]
  },
  {
   "cell_type": "markdown",
   "id": "b20eefe7-0f7b-4b7d-b81e-de7257d32aa6",
   "metadata": {},
   "source": [
    "## Penggabungan Kolom"
   ]
  },
  {
   "cell_type": "code",
   "execution_count": 54,
   "id": "e8854018-7725-4055-8f94-387b6898ce61",
   "metadata": {},
   "outputs": [
    {
     "data": {
      "text/plain": [
       "array([[-9.8290525e-02,  1.2328393e+00,  1.0841055e+00, -3.1474229e-02,\n",
       "         8.2393861e-01,  2.0000000e+00,  3.0000000e+00,  5.0000000e+00,\n",
       "         7.0000000e+00,  1.1000000e+01],\n",
       "       [-1.3439770e+00, -5.8250290e-01, -1.2442445e+00,  7.8904885e-01,\n",
       "        -1.5128906e+00,  1.3000000e+01,  1.7000000e+01,  1.9000000e+01,\n",
       "         2.3000000e+01,  2.9000000e+01],\n",
       "       [ 2.1204236e+00,  8.9439470e-01, -8.5124031e-02, -3.0256145e+00,\n",
       "         5.4129496e-02,  3.1000000e+01,  3.7000000e+01,  4.1000000e+01,\n",
       "         4.3000000e+01,  4.7000000e+01],\n",
       "       [ 4.3276709e-01, -2.9732513e-01,  9.7910351e-01,  1.6596949e+00,\n",
       "         1.1454969e-01,  5.3000000e+01,  5.9000000e+01,  6.1000000e+01,\n",
       "         7.1000000e+01,  7.3000000e+01],\n",
       "       [ 1.5303185e-02, -2.6026440e-01, -7.2177672e-01, -8.9322507e-01,\n",
       "         3.5070774e-01,  7.9000000e+01,  8.3000000e+01,  8.9000000e+01,\n",
       "         9.7000000e+01,  1.0100000e+02]], dtype=float32)"
      ]
     },
     "execution_count": 54,
     "metadata": {},
     "output_type": "execute_result"
    }
   ],
   "source": [
    "tf.concat([random_tensor,prime_tensor], axis=1).numpy()"
   ]
  },
  {
   "cell_type": "markdown",
   "id": "012ab09f-5847-4aae-bfa9-669728b2fe82",
   "metadata": {},
   "source": [
    "#"
   ]
  },
  {
   "cell_type": "markdown",
   "id": "15df78ae-52f1-4555-9def-5de1ea4d3281",
   "metadata": {},
   "source": [
    "# Menampilkan hasil sorting dari kedua variabel (random_tensor dan prime_tensor) secara menurun/Ascending"
   ]
  },
  {
   "cell_type": "markdown",
   "id": "dc2ebe81-826d-4f5a-ad5c-b172125746ce",
   "metadata": {},
   "source": [
    "## Sort Random_Tensor (Descending)"
   ]
  },
  {
   "cell_type": "code",
   "execution_count": 55,
   "id": "b45bbe47-e189-4d42-a2b4-fd6b4715516e",
   "metadata": {},
   "outputs": [
    {
     "data": {
      "text/plain": [
       "array([[ 1.2328393 ,  1.0841055 ,  0.8239386 , -0.03147423, -0.09829053],\n",
       "       [ 0.78904885, -0.5825029 , -1.2442445 , -1.343977  , -1.5128906 ],\n",
       "       [ 2.1204236 ,  0.8943947 ,  0.0541295 , -0.08512403, -3.0256145 ],\n",
       "       [ 1.6596949 ,  0.9791035 ,  0.4327671 ,  0.11454969, -0.29732513],\n",
       "       [ 0.35070774,  0.01530319, -0.2602644 , -0.7217767 , -0.8932251 ]],\n",
       "      dtype=float32)"
      ]
     },
     "execution_count": 55,
     "metadata": {},
     "output_type": "execute_result"
    }
   ],
   "source": [
    "sort_random_tensor1 = tf.sort(random_tensor, direction=\"DESCENDING\")\n",
    "sort_random_tensor1.numpy()"
   ]
  },
  {
   "cell_type": "code",
   "execution_count": 56,
   "id": "4d9c994d-813f-4815-802b-4b5cedcabc4b",
   "metadata": {},
   "outputs": [
    {
     "data": {
      "text/plain": [
       "array([[1, 2, 4, 3, 0],\n",
       "       [3, 1, 2, 0, 4],\n",
       "       [0, 1, 4, 2, 3],\n",
       "       [3, 2, 0, 4, 1],\n",
       "       [4, 0, 1, 2, 3]])"
      ]
     },
     "execution_count": 56,
     "metadata": {},
     "output_type": "execute_result"
    }
   ],
   "source": [
    "sort_random_tensor2 = tf.argsort(random_tensor, direction=\"DESCENDING\")\n",
    "sort_random_tensor2.numpy()"
   ]
  },
  {
   "cell_type": "markdown",
   "id": "bec89376-29c6-47ca-bf62-bbbd854fbe05",
   "metadata": {},
   "source": [
    "###"
   ]
  },
  {
   "cell_type": "markdown",
   "id": "5653884f-1192-454b-82f6-65aded3546e7",
   "metadata": {},
   "source": [
    "## Sort Prime_Tensor (Descending)"
   ]
  },
  {
   "cell_type": "code",
   "execution_count": 57,
   "id": "53b7785e-3410-4395-8fa1-e3cd2a51ceb0",
   "metadata": {},
   "outputs": [
    {
     "data": {
      "text/plain": [
       "array([[ 11.,   7.,   5.,   3.,   2.],\n",
       "       [ 29.,  23.,  19.,  17.,  13.],\n",
       "       [ 47.,  43.,  41.,  37.,  31.],\n",
       "       [ 73.,  71.,  61.,  59.,  53.],\n",
       "       [101.,  97.,  89.,  83.,  79.]], dtype=float32)"
      ]
     },
     "execution_count": 57,
     "metadata": {},
     "output_type": "execute_result"
    }
   ],
   "source": [
    "sort_prime_tensor1 = tf.sort(prime_tensor, direction=\"DESCENDING\")\n",
    "sort_prime_tensor1.numpy()"
   ]
  },
  {
   "cell_type": "code",
   "execution_count": 58,
   "id": "d96abca1-9a1c-4744-8b96-b07827661128",
   "metadata": {},
   "outputs": [
    {
     "data": {
      "text/plain": [
       "array([[4, 3, 2, 1, 0],\n",
       "       [4, 3, 2, 1, 0],\n",
       "       [4, 3, 2, 1, 0],\n",
       "       [4, 3, 2, 1, 0],\n",
       "       [4, 3, 2, 1, 0]])"
      ]
     },
     "execution_count": 58,
     "metadata": {},
     "output_type": "execute_result"
    }
   ],
   "source": [
    "sort_prime_tensor2 = tf.argsort(prime_tensor, direction=\"DESCENDING\")\n",
    "sort_prime_tensor2.numpy()"
   ]
  }
 ],
 "metadata": {
  "kernelspec": {
   "display_name": "Python 3 (ipykernel)",
   "language": "python",
   "name": "python3"
  },
  "language_info": {
   "codemirror_mode": {
    "name": "ipython",
    "version": 3
   },
   "file_extension": ".py",
   "mimetype": "text/x-python",
   "name": "python",
   "nbconvert_exporter": "python",
   "pygments_lexer": "ipython3",
   "version": "3.10.7"
  }
 },
 "nbformat": 4,
 "nbformat_minor": 5
}
