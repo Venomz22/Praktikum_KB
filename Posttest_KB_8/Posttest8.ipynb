{
  "nbformat": 4,
  "nbformat_minor": 0,
  "metadata": {
    "colab": {
      "provenance": [],
      "collapsed_sections": []
    },
    "kernelspec": {
      "name": "python3",
      "display_name": "Python 3"
    },
    "language_info": {
      "name": "python"
    }
  },
  "cells": [
    {
      "cell_type": "markdown",
      "source": [
        "# Dimas Arya Nugraha\n",
        "# 2109106019\n",
        "# Informatika A 21\n",
        "# Posttest 8 Kecerdasan Buatan"
      ],
      "metadata": {
        "id": "LpAhCDIw17QQ"
      }
    },
    {
      "cell_type": "markdown",
      "source": [
        "## Import ibrary"
      ],
      "metadata": {
        "id": "KuiHFrbs2JDt"
      }
    },
    {
      "cell_type": "code",
      "execution_count": 273,
      "metadata": {
        "id": "hLHdmxV0P9ve"
      },
      "outputs": [],
      "source": [
        "import pandas as pd\n",
        "import numpy as np\n",
        "import matplotlib.pyplot as plt\n",
        "import tensorflow as tf\n",
        "from tensorflow import keras\n",
        "from tensorflow.keras import Sequential\n",
        "from tensorflow.keras.layers import Dense\n",
        "from keras import datasets\n",
        "import tensorflow_datasets as tfds\n",
        "from sklearn.preprocessing import StandardScaler \n",
        "from sklearn.model_selection import train_test_split"
      ]
    },
    {
      "cell_type": "markdown",
      "source": [
        "## Import Dataset"
      ],
      "metadata": {
        "id": "WoGX8j602NHC"
      }
    },
    {
      "cell_type": "code",
      "source": [
        "data= pd.read_csv('gender_classification_v7.csv')"
      ],
      "metadata": {
        "id": "c1fNSHOTSR1P"
      },
      "execution_count": 236,
      "outputs": []
    },
    {
      "cell_type": "markdown",
      "source": [
        "# Lihat Data Dataset\n"
      ],
      "metadata": {
        "id": "etO8QPwuSWCG"
      }
    },
    {
      "cell_type": "code",
      "source": [
        "data.head()"
      ],
      "metadata": {
        "colab": {
          "base_uri": "https://localhost:8080/",
          "height": 206
        },
        "id": "AKU8DYiJTABz",
        "outputId": "b0e4e59f-9d61-4fd0-d1f3-4d7483c1714f"
      },
      "execution_count": 237,
      "outputs": [
        {
          "output_type": "execute_result",
          "data": {
            "text/plain": [
              "   long_hair  forehead_width_cm  forehead_height_cm  nose_wide  nose_long  \\\n",
              "0          1               11.8                 6.1          1          0   \n",
              "1          0               14.0                 5.4          0          0   \n",
              "2          0               11.8                 6.3          1          1   \n",
              "3          0               14.4                 6.1          0          1   \n",
              "4          1               13.5                 5.9          0          0   \n",
              "\n",
              "   lips_thin  distance_nose_to_lip_long  gender  \n",
              "0          1                          1    Male  \n",
              "1          1                          0  Female  \n",
              "2          1                          1    Male  \n",
              "3          1                          1    Male  \n",
              "4          0                          0  Female  "
            ],
            "text/html": [
              "\n",
              "  <div id=\"df-6ee09771-e5c3-416b-a705-32f52fa6a3f5\">\n",
              "    <div class=\"colab-df-container\">\n",
              "      <div>\n",
              "<style scoped>\n",
              "    .dataframe tbody tr th:only-of-type {\n",
              "        vertical-align: middle;\n",
              "    }\n",
              "\n",
              "    .dataframe tbody tr th {\n",
              "        vertical-align: top;\n",
              "    }\n",
              "\n",
              "    .dataframe thead th {\n",
              "        text-align: right;\n",
              "    }\n",
              "</style>\n",
              "<table border=\"1\" class=\"dataframe\">\n",
              "  <thead>\n",
              "    <tr style=\"text-align: right;\">\n",
              "      <th></th>\n",
              "      <th>long_hair</th>\n",
              "      <th>forehead_width_cm</th>\n",
              "      <th>forehead_height_cm</th>\n",
              "      <th>nose_wide</th>\n",
              "      <th>nose_long</th>\n",
              "      <th>lips_thin</th>\n",
              "      <th>distance_nose_to_lip_long</th>\n",
              "      <th>gender</th>\n",
              "    </tr>\n",
              "  </thead>\n",
              "  <tbody>\n",
              "    <tr>\n",
              "      <th>0</th>\n",
              "      <td>1</td>\n",
              "      <td>11.8</td>\n",
              "      <td>6.1</td>\n",
              "      <td>1</td>\n",
              "      <td>0</td>\n",
              "      <td>1</td>\n",
              "      <td>1</td>\n",
              "      <td>Male</td>\n",
              "    </tr>\n",
              "    <tr>\n",
              "      <th>1</th>\n",
              "      <td>0</td>\n",
              "      <td>14.0</td>\n",
              "      <td>5.4</td>\n",
              "      <td>0</td>\n",
              "      <td>0</td>\n",
              "      <td>1</td>\n",
              "      <td>0</td>\n",
              "      <td>Female</td>\n",
              "    </tr>\n",
              "    <tr>\n",
              "      <th>2</th>\n",
              "      <td>0</td>\n",
              "      <td>11.8</td>\n",
              "      <td>6.3</td>\n",
              "      <td>1</td>\n",
              "      <td>1</td>\n",
              "      <td>1</td>\n",
              "      <td>1</td>\n",
              "      <td>Male</td>\n",
              "    </tr>\n",
              "    <tr>\n",
              "      <th>3</th>\n",
              "      <td>0</td>\n",
              "      <td>14.4</td>\n",
              "      <td>6.1</td>\n",
              "      <td>0</td>\n",
              "      <td>1</td>\n",
              "      <td>1</td>\n",
              "      <td>1</td>\n",
              "      <td>Male</td>\n",
              "    </tr>\n",
              "    <tr>\n",
              "      <th>4</th>\n",
              "      <td>1</td>\n",
              "      <td>13.5</td>\n",
              "      <td>5.9</td>\n",
              "      <td>0</td>\n",
              "      <td>0</td>\n",
              "      <td>0</td>\n",
              "      <td>0</td>\n",
              "      <td>Female</td>\n",
              "    </tr>\n",
              "  </tbody>\n",
              "</table>\n",
              "</div>\n",
              "      <button class=\"colab-df-convert\" onclick=\"convertToInteractive('df-6ee09771-e5c3-416b-a705-32f52fa6a3f5')\"\n",
              "              title=\"Convert this dataframe to an interactive table.\"\n",
              "              style=\"display:none;\">\n",
              "        \n",
              "  <svg xmlns=\"http://www.w3.org/2000/svg\" height=\"24px\"viewBox=\"0 0 24 24\"\n",
              "       width=\"24px\">\n",
              "    <path d=\"M0 0h24v24H0V0z\" fill=\"none\"/>\n",
              "    <path d=\"M18.56 5.44l.94 2.06.94-2.06 2.06-.94-2.06-.94-.94-2.06-.94 2.06-2.06.94zm-11 1L8.5 8.5l.94-2.06 2.06-.94-2.06-.94L8.5 2.5l-.94 2.06-2.06.94zm10 10l.94 2.06.94-2.06 2.06-.94-2.06-.94-.94-2.06-.94 2.06-2.06.94z\"/><path d=\"M17.41 7.96l-1.37-1.37c-.4-.4-.92-.59-1.43-.59-.52 0-1.04.2-1.43.59L10.3 9.45l-7.72 7.72c-.78.78-.78 2.05 0 2.83L4 21.41c.39.39.9.59 1.41.59.51 0 1.02-.2 1.41-.59l7.78-7.78 2.81-2.81c.8-.78.8-2.07 0-2.86zM5.41 20L4 18.59l7.72-7.72 1.47 1.35L5.41 20z\"/>\n",
              "  </svg>\n",
              "      </button>\n",
              "      \n",
              "  <style>\n",
              "    .colab-df-container {\n",
              "      display:flex;\n",
              "      flex-wrap:wrap;\n",
              "      gap: 12px;\n",
              "    }\n",
              "\n",
              "    .colab-df-convert {\n",
              "      background-color: #E8F0FE;\n",
              "      border: none;\n",
              "      border-radius: 50%;\n",
              "      cursor: pointer;\n",
              "      display: none;\n",
              "      fill: #1967D2;\n",
              "      height: 32px;\n",
              "      padding: 0 0 0 0;\n",
              "      width: 32px;\n",
              "    }\n",
              "\n",
              "    .colab-df-convert:hover {\n",
              "      background-color: #E2EBFA;\n",
              "      box-shadow: 0px 1px 2px rgba(60, 64, 67, 0.3), 0px 1px 3px 1px rgba(60, 64, 67, 0.15);\n",
              "      fill: #174EA6;\n",
              "    }\n",
              "\n",
              "    [theme=dark] .colab-df-convert {\n",
              "      background-color: #3B4455;\n",
              "      fill: #D2E3FC;\n",
              "    }\n",
              "\n",
              "    [theme=dark] .colab-df-convert:hover {\n",
              "      background-color: #434B5C;\n",
              "      box-shadow: 0px 1px 3px 1px rgba(0, 0, 0, 0.15);\n",
              "      filter: drop-shadow(0px 1px 2px rgba(0, 0, 0, 0.3));\n",
              "      fill: #FFFFFF;\n",
              "    }\n",
              "  </style>\n",
              "\n",
              "      <script>\n",
              "        const buttonEl =\n",
              "          document.querySelector('#df-6ee09771-e5c3-416b-a705-32f52fa6a3f5 button.colab-df-convert');\n",
              "        buttonEl.style.display =\n",
              "          google.colab.kernel.accessAllowed ? 'block' : 'none';\n",
              "\n",
              "        async function convertToInteractive(key) {\n",
              "          const element = document.querySelector('#df-6ee09771-e5c3-416b-a705-32f52fa6a3f5');\n",
              "          const dataTable =\n",
              "            await google.colab.kernel.invokeFunction('convertToInteractive',\n",
              "                                                     [key], {});\n",
              "          if (!dataTable) return;\n",
              "\n",
              "          const docLinkHtml = 'Like what you see? Visit the ' +\n",
              "            '<a target=\"_blank\" href=https://colab.research.google.com/notebooks/data_table.ipynb>data table notebook</a>'\n",
              "            + ' to learn more about interactive tables.';\n",
              "          element.innerHTML = '';\n",
              "          dataTable['output_type'] = 'display_data';\n",
              "          await google.colab.output.renderOutput(dataTable, element);\n",
              "          const docLink = document.createElement('div');\n",
              "          docLink.innerHTML = docLinkHtml;\n",
              "          element.appendChild(docLink);\n",
              "        }\n",
              "      </script>\n",
              "    </div>\n",
              "  </div>\n",
              "  "
            ]
          },
          "metadata": {},
          "execution_count": 237
        }
      ]
    },
    {
      "cell_type": "markdown",
      "source": [
        "# Model Sequential"
      ],
      "metadata": {
        "id": "y9lhKWz02WDo"
      }
    },
    {
      "cell_type": "code",
      "source": [
        "model = tf.keras.Sequential(\n",
        "    [\n",
        "        tf.keras.layers.Dense(1, input_shape=[1])\n",
        "    ]\n",
        ")"
      ],
      "metadata": {
        "id": "UPjITLrSTH8J"
      },
      "execution_count": 268,
      "outputs": []
    },
    {
      "cell_type": "code",
      "source": [
        "x = data[['lips_thin']]\n",
        "y = data[['forehead_width_cm']]"
      ],
      "metadata": {
        "id": "X-KEqAmhTdz6"
      },
      "execution_count": 269,
      "outputs": []
    },
    {
      "cell_type": "code",
      "source": [
        "model.compile(optimizer='SGD', loss='mse')"
      ],
      "metadata": {
        "id": "pn1c-1Qgy6BA"
      },
      "execution_count": 270,
      "outputs": []
    },
    {
      "cell_type": "code",
      "source": [
        "model.fit(x , y, verbose=2, epochs=50)"
      ],
      "metadata": {
        "colab": {
          "base_uri": "https://localhost:8080/"
        },
        "id": "vRCLCxYMy7a-",
        "outputId": "caf00ced-7c41-46d5-8c60-eec48bd936c6"
      },
      "execution_count": 272,
      "outputs": [
        {
          "output_type": "stream",
          "name": "stdout",
          "text": [
            "Epoch 1/50\n",
            "157/157 - 0s - loss: 1.1444 - 179ms/epoch - 1ms/step\n",
            "Epoch 2/50\n",
            "157/157 - 0s - loss: 1.1442 - 173ms/epoch - 1ms/step\n",
            "Epoch 3/50\n",
            "157/157 - 0s - loss: 1.1447 - 178ms/epoch - 1ms/step\n",
            "Epoch 4/50\n",
            "157/157 - 0s - loss: 1.1446 - 185ms/epoch - 1ms/step\n",
            "Epoch 5/50\n",
            "157/157 - 0s - loss: 1.1444 - 181ms/epoch - 1ms/step\n",
            "Epoch 6/50\n",
            "157/157 - 0s - loss: 1.1444 - 170ms/epoch - 1ms/step\n",
            "Epoch 7/50\n",
            "157/157 - 0s - loss: 1.1445 - 168ms/epoch - 1ms/step\n",
            "Epoch 8/50\n",
            "157/157 - 0s - loss: 1.1446 - 175ms/epoch - 1ms/step\n",
            "Epoch 9/50\n",
            "157/157 - 0s - loss: 1.1445 - 190ms/epoch - 1ms/step\n",
            "Epoch 10/50\n",
            "157/157 - 0s - loss: 1.1445 - 173ms/epoch - 1ms/step\n",
            "Epoch 11/50\n",
            "157/157 - 0s - loss: 1.1444 - 173ms/epoch - 1ms/step\n",
            "Epoch 12/50\n",
            "157/157 - 0s - loss: 1.1445 - 181ms/epoch - 1ms/step\n",
            "Epoch 13/50\n",
            "157/157 - 0s - loss: 1.1444 - 176ms/epoch - 1ms/step\n",
            "Epoch 14/50\n",
            "157/157 - 0s - loss: 1.1442 - 182ms/epoch - 1ms/step\n",
            "Epoch 15/50\n",
            "157/157 - 0s - loss: 1.1447 - 190ms/epoch - 1ms/step\n",
            "Epoch 16/50\n",
            "157/157 - 0s - loss: 1.1436 - 172ms/epoch - 1ms/step\n",
            "Epoch 17/50\n",
            "157/157 - 0s - loss: 1.1443 - 172ms/epoch - 1ms/step\n",
            "Epoch 18/50\n",
            "157/157 - 0s - loss: 1.1445 - 168ms/epoch - 1ms/step\n",
            "Epoch 19/50\n",
            "157/157 - 0s - loss: 1.1443 - 175ms/epoch - 1ms/step\n",
            "Epoch 20/50\n",
            "157/157 - 0s - loss: 1.1445 - 173ms/epoch - 1ms/step\n",
            "Epoch 21/50\n",
            "157/157 - 0s - loss: 1.1444 - 194ms/epoch - 1ms/step\n",
            "Epoch 22/50\n",
            "157/157 - 0s - loss: 1.1445 - 178ms/epoch - 1ms/step\n",
            "Epoch 23/50\n",
            "157/157 - 0s - loss: 1.1444 - 178ms/epoch - 1ms/step\n",
            "Epoch 24/50\n",
            "157/157 - 0s - loss: 1.1446 - 183ms/epoch - 1ms/step\n",
            "Epoch 25/50\n",
            "157/157 - 0s - loss: 1.1442 - 186ms/epoch - 1ms/step\n",
            "Epoch 26/50\n",
            "157/157 - 0s - loss: 1.1448 - 184ms/epoch - 1ms/step\n",
            "Epoch 27/50\n",
            "157/157 - 0s - loss: 1.1446 - 171ms/epoch - 1ms/step\n",
            "Epoch 28/50\n",
            "157/157 - 0s - loss: 1.1444 - 175ms/epoch - 1ms/step\n",
            "Epoch 29/50\n",
            "157/157 - 0s - loss: 1.1441 - 180ms/epoch - 1ms/step\n",
            "Epoch 30/50\n",
            "157/157 - 0s - loss: 1.1436 - 171ms/epoch - 1ms/step\n",
            "Epoch 31/50\n",
            "157/157 - 0s - loss: 1.1447 - 177ms/epoch - 1ms/step\n",
            "Epoch 32/50\n",
            "157/157 - 0s - loss: 1.1446 - 177ms/epoch - 1ms/step\n",
            "Epoch 33/50\n",
            "157/157 - 0s - loss: 1.1437 - 167ms/epoch - 1ms/step\n",
            "Epoch 34/50\n",
            "157/157 - 0s - loss: 1.1445 - 179ms/epoch - 1ms/step\n",
            "Epoch 35/50\n",
            "157/157 - 0s - loss: 1.1444 - 175ms/epoch - 1ms/step\n",
            "Epoch 36/50\n",
            "157/157 - 0s - loss: 1.1439 - 177ms/epoch - 1ms/step\n",
            "Epoch 37/50\n",
            "157/157 - 0s - loss: 1.1445 - 183ms/epoch - 1ms/step\n",
            "Epoch 38/50\n",
            "157/157 - 0s - loss: 1.1444 - 190ms/epoch - 1ms/step\n",
            "Epoch 39/50\n",
            "157/157 - 0s - loss: 1.1446 - 174ms/epoch - 1ms/step\n",
            "Epoch 40/50\n",
            "157/157 - 0s - loss: 1.1441 - 173ms/epoch - 1ms/step\n",
            "Epoch 41/50\n",
            "157/157 - 0s - loss: 1.1444 - 169ms/epoch - 1ms/step\n",
            "Epoch 42/50\n",
            "157/157 - 0s - loss: 1.1442 - 176ms/epoch - 1ms/step\n",
            "Epoch 43/50\n",
            "157/157 - 0s - loss: 1.1446 - 180ms/epoch - 1ms/step\n",
            "Epoch 44/50\n",
            "157/157 - 0s - loss: 1.1441 - 175ms/epoch - 1ms/step\n",
            "Epoch 45/50\n",
            "157/157 - 0s - loss: 1.1444 - 174ms/epoch - 1ms/step\n",
            "Epoch 46/50\n",
            "157/157 - 0s - loss: 1.1448 - 176ms/epoch - 1ms/step\n",
            "Epoch 47/50\n",
            "157/157 - 0s - loss: 1.1445 - 178ms/epoch - 1ms/step\n",
            "Epoch 48/50\n",
            "157/157 - 0s - loss: 1.1439 - 177ms/epoch - 1ms/step\n",
            "Epoch 49/50\n",
            "157/157 - 0s - loss: 1.1443 - 180ms/epoch - 1ms/step\n",
            "Epoch 50/50\n",
            "157/157 - 0s - loss: 1.1446 - 168ms/epoch - 1ms/step\n"
          ]
        },
        {
          "output_type": "execute_result",
          "data": {
            "text/plain": [
              "<keras.callbacks.History at 0x7f9ceff72a10>"
            ]
          },
          "metadata": {},
          "execution_count": 272
        }
      ]
    },
    {
      "cell_type": "code",
      "source": [],
      "metadata": {
        "id": "Ml9SLh0G0vbx"
      },
      "execution_count": null,
      "outputs": []
    }
  ]
}