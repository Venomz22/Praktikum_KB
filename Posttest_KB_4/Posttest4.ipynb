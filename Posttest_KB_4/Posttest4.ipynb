{
 "cells": [
  {
   "cell_type": "markdown",
   "id": "136795d9-7c22-45d2-b838-40acc933e34e",
   "metadata": {
    "tags": []
   },
   "source": [
    "# Nama : Dimas Arya Nugraha"
   ]
  },
  {
   "cell_type": "markdown",
   "id": "cab12460-e660-4749-82fa-0d8f53b45d5b",
   "metadata": {},
   "source": [
    "# Nim : 2109106019"
   ]
  },
  {
   "cell_type": "markdown",
   "id": "cc212362-56c1-4fe8-8a50-0e7f4d9fad62",
   "metadata": {},
   "source": [
    "# Kelas : Informatika A'21"
   ]
  },
  {
   "cell_type": "markdown",
   "id": "daa2910d-27ca-43f0-87c1-b28268ebf809",
   "metadata": {},
   "source": [
    "# Posttest 4 Kecerdasan Buatan"
   ]
  },
  {
   "cell_type": "markdown",
   "id": "fd190d5a-8687-4dda-a001-0fbcd9504529",
   "metadata": {},
   "source": [
    "# #"
   ]
  },
  {
   "cell_type": "markdown",
   "id": "355fa984-e150-44e3-afa3-e3c7faa6fcd2",
   "metadata": {},
   "source": [
    "## LIBRARY ##"
   ]
  },
  {
   "cell_type": "code",
   "execution_count": 111,
   "id": "5e39aba6-579c-40b8-91e6-00b7c5ab7f3d",
   "metadata": {},
   "outputs": [],
   "source": [
    "import pandas as pd\n",
    "import numpy as np\n",
    "from sklearn.model_selection import train_test_split"
   ]
  },
  {
   "cell_type": "markdown",
   "id": "327407e1-3e46-44a5-baea-496a804fd125",
   "metadata": {},
   "source": [
    "## Import CSV ##"
   ]
  },
  {
   "cell_type": "code",
   "execution_count": 112,
   "id": "d96020f3-692b-4303-b522-596ada801676",
   "metadata": {},
   "outputs": [],
   "source": [
    "df = pd.read_csv(\"PoliceViolenceUS2013-2021.csv\")"
   ]
  },
  {
   "cell_type": "code",
   "execution_count": 113,
   "id": "4aad203a-6b37-4dcd-975b-f775c0db151b",
   "metadata": {},
   "outputs": [
    {
     "data": {
      "text/plain": [
       "(9295, 38)"
      ]
     },
     "execution_count": 113,
     "metadata": {},
     "output_type": "execute_result"
    }
   ],
   "source": [
    "df.shape"
   ]
  },
  {
   "cell_type": "code",
   "execution_count": 114,
   "id": "2f846deb-697f-4e51-befc-a5c21a887c6d",
   "metadata": {},
   "outputs": [
    {
     "name": "stdout",
     "output_type": "stream",
     "text": [
      "<class 'pandas.core.frame.DataFrame'>\n",
      "RangeIndex: 9295 entries, 0 to 9294\n",
      "Data columns (total 38 columns):\n",
      " #   Column                          Non-Null Count  Dtype  \n",
      "---  ------                          --------------  -----  \n",
      " 0   Victim Name                     9295 non-null   object \n",
      " 1   Victim Age                      8932 non-null   float64\n",
      " 2   Victim Gender                   9295 non-null   object \n",
      " 3   Victim Race                     9295 non-null   object \n",
      " 4   Victim Image URL                4911 non-null   object \n",
      " 5   Date                            9295 non-null   object \n",
      " 6   Street Address of Incident      9160 non-null   object \n",
      " 7   City                            9280 non-null   object \n",
      " 8   State                           9295 non-null   object \n",
      " 9   Zipcode                         9229 non-null   object \n",
      " 10  County                          9273 non-null   object \n",
      " 11  Agency                          9291 non-null   object \n",
      " 12  ORI Agency ID                   9289 non-null   object \n",
      " 13  Cause of Death                  9295 non-null   object \n",
      " 14  Circumstances                   9281 non-null   object \n",
      " 15  Official Disposition            9295 non-null   object \n",
      " 16  Criminal Charges                9295 non-null   object \n",
      " 17  Document Link                   9295 non-null   object \n",
      " 18  Mental Illness                  9295 non-null   object \n",
      " 19  Armed                           9295 non-null   object \n",
      " 20  Alleged Weapon                  9295 non-null   object \n",
      " 21  Alleged Threat Level            9295 non-null   object \n",
      " 22  Fleeing                         9295 non-null   object \n",
      " 23  Body Camera                     9295 non-null   object \n",
      " 24  WaPo ID                         6177 non-null   float64\n",
      " 25  Off-Duty Killing                9295 non-null   object \n",
      " 26  Geography                       9295 non-null   object \n",
      " 27  MPV ID                          9295 non-null   int64  \n",
      " 28  Fatal Encounters ID             9081 non-null   float64\n",
      " 29  Encounter Type                  9295 non-null   object \n",
      " 30  Reason for Encounter            9295 non-null   object \n",
      " 31  Officer Name                    1411 non-null   object \n",
      " 32  Officer Race                    9295 non-null   object \n",
      " 33  Past Shootings by Officer       9295 non-null   object \n",
      " 34  Call for Service                9295 non-null   object \n",
      " 35  Encounter Type (details)        512 non-null    object \n",
      " 36  Reason for Encounter (details)  2223 non-null   object \n",
      " 37  Number of Officers Involved     1411 non-null   float64\n",
      "dtypes: float64(4), int64(1), object(33)\n",
      "memory usage: 2.7+ MB\n"
     ]
    }
   ],
   "source": [
    "df.info()"
   ]
  },
  {
   "cell_type": "markdown",
   "id": "a3602534-181e-497c-8921-fb8655f242c2",
   "metadata": {},
   "source": [
    "# #"
   ]
  },
  {
   "cell_type": "markdown",
   "id": "f8f1956c-7845-43a1-8d22-a7212e2aff85",
   "metadata": {},
   "source": [
    "# Membagi dataset menjadi training set dan testing set #"
   ]
  },
  {
   "cell_type": "code",
   "execution_count": 115,
   "id": "381db63a-1a93-43f7-9a77-aad9c57a2d4e",
   "metadata": {},
   "outputs": [],
   "source": [
    "X = df.iloc[:,:-1]\n",
    "y = df.iloc[:,-1]\n",
    "X_train, X_test, y_train, y_test = train_test_split(X, y, test_size=0.2)"
   ]
  },
  {
   "cell_type": "code",
   "execution_count": 116,
   "id": "1f32f3f6-aa71-4d6c-a625-6f2006b7c0d5",
   "metadata": {},
   "outputs": [
    {
     "name": "stdout",
     "output_type": "stream",
     "text": [
      "X-train :  (7436, 37)\n",
      "Y-train :  (7436,)\n",
      "x-train :  (1859, 37)\n",
      "y-train :  (1859,)\n"
     ]
    }
   ],
   "source": [
    "print(\"X-train : \", X_train.shape)\n",
    "print(\"Y-train : \", y_train.shape)\n",
    "print(\"x-train : \", X_test.shape)\n",
    "print(\"y-train : \", y_test.shape)"
   ]
  },
  {
   "cell_type": "markdown",
   "id": "1861f0f1-2c9b-4e52-9f31-9b8ecadd33c2",
   "metadata": {},
   "source": [
    "## ##"
   ]
  },
  {
   "cell_type": "markdown",
   "id": "b603927b-c0e5-487d-85af-bed042623ed8",
   "metadata": {
    "tags": []
   },
   "source": [
    "# Data cleaning pada data dengan nilai null #"
   ]
  },
  {
   "cell_type": "markdown",
   "id": "062bdaba-605c-4004-bf39-5461b1f0d2dd",
   "metadata": {},
   "source": [
    "### Sebelum Data Cleaning membersihkan NULL pada atribut \"Victim Age\", \"Zipcode\" dan \"Fatal Encounters ID\" ###"
   ]
  },
  {
   "cell_type": "code",
   "execution_count": 117,
   "id": "3dc5da7c-85ab-4a87-9095-310029dc7809",
   "metadata": {},
   "outputs": [
    {
     "data": {
      "text/plain": [
       "Victim Name                          0\n",
       "Victim Age                         363\n",
       "Victim Gender                        0\n",
       "Victim Race                          0\n",
       "Victim Image URL                  4384\n",
       "Date                                 0\n",
       "Street Address of Incident         135\n",
       "City                                15\n",
       "State                                0\n",
       "Zipcode                             66\n",
       "County                              22\n",
       "Agency                               4\n",
       "ORI Agency ID                        6\n",
       "Cause of Death                       0\n",
       "Circumstances                       14\n",
       "Official Disposition                 0\n",
       "Criminal Charges                     0\n",
       "Document Link                        0\n",
       "Mental Illness                       0\n",
       "Armed                                0\n",
       "Alleged Weapon                       0\n",
       "Alleged Threat Level                 0\n",
       "Fleeing                              0\n",
       "Body Camera                          0\n",
       "WaPo ID                           3118\n",
       "Off-Duty Killing                     0\n",
       "Geography                            0\n",
       "MPV ID                               0\n",
       "Fatal Encounters ID                214\n",
       "Encounter Type                       0\n",
       "Reason for Encounter                 0\n",
       "Officer Name                      7884\n",
       "Officer Race                         0\n",
       "Past Shootings by Officer            0\n",
       "Call for Service                     0\n",
       "Encounter Type (details)          8783\n",
       "Reason for Encounter (details)    7072\n",
       "Number of Officers Involved       7884\n",
       "dtype: int64"
      ]
     },
     "execution_count": 117,
     "metadata": {},
     "output_type": "execute_result"
    }
   ],
   "source": [
    "df.isna().sum()"
   ]
  },
  {
   "cell_type": "code",
   "execution_count": 118,
   "id": "1cdd10ed-d879-4bfc-b4dc-dabebc9e274f",
   "metadata": {},
   "outputs": [],
   "source": [
    "from sklearn.impute import SimpleImputer\n",
    "imputer = SimpleImputer(strategy='mean')"
   ]
  },
  {
   "cell_type": "code",
   "execution_count": 119,
   "id": "f0b82fd8-f01b-456f-8418-787e031d12de",
   "metadata": {},
   "outputs": [],
   "source": [
    "df[\"Victim Age\"] = imputer.fit_transform(df[[\"Victim Age\"]])"
   ]
  },
  {
   "cell_type": "code",
   "execution_count": 120,
   "id": "88248919-9b59-4215-94eb-e098a5769fcb",
   "metadata": {},
   "outputs": [],
   "source": [
    "df[\"Fatal Encounters ID\"] = imputer.fit_transform(df[[\"Fatal Encounters ID\"]])"
   ]
  },
  {
   "cell_type": "markdown",
   "id": "7c392d36-c8e0-4328-a07a-06c7188195fb",
   "metadata": {},
   "source": [
    "### Setelah Data Cleaning Atribut yg mempunyai record bernilai NULL telah bersih pada atribut \"Victim Age\", \"Zipcode\" dan \"Fatal Encounters ID\" ###"
   ]
  },
  {
   "cell_type": "code",
   "execution_count": 121,
   "id": "e318cf5e-3a03-4324-9c20-c68a0778733b",
   "metadata": {},
   "outputs": [
    {
     "data": {
      "text/plain": [
       "Victim Name                          0\n",
       "Victim Age                           0\n",
       "Victim Gender                        0\n",
       "Victim Race                          0\n",
       "Victim Image URL                  4384\n",
       "Date                                 0\n",
       "Street Address of Incident         135\n",
       "City                                15\n",
       "State                                0\n",
       "Zipcode                             66\n",
       "County                              22\n",
       "Agency                               4\n",
       "ORI Agency ID                        6\n",
       "Cause of Death                       0\n",
       "Circumstances                       14\n",
       "Official Disposition                 0\n",
       "Criminal Charges                     0\n",
       "Document Link                        0\n",
       "Mental Illness                       0\n",
       "Armed                                0\n",
       "Alleged Weapon                       0\n",
       "Alleged Threat Level                 0\n",
       "Fleeing                              0\n",
       "Body Camera                          0\n",
       "WaPo ID                           3118\n",
       "Off-Duty Killing                     0\n",
       "Geography                            0\n",
       "MPV ID                               0\n",
       "Fatal Encounters ID                  0\n",
       "Encounter Type                       0\n",
       "Reason for Encounter                 0\n",
       "Officer Name                      7884\n",
       "Officer Race                         0\n",
       "Past Shootings by Officer            0\n",
       "Call for Service                     0\n",
       "Encounter Type (details)          8783\n",
       "Reason for Encounter (details)    7072\n",
       "Number of Officers Involved       7884\n",
       "dtype: int64"
      ]
     },
     "execution_count": 121,
     "metadata": {},
     "output_type": "execute_result"
    }
   ],
   "source": [
    "df.isna().sum()"
   ]
  },
  {
   "cell_type": "markdown",
   "id": "551c36b4-0a54-40cf-9282-32cefbf50a4f",
   "metadata": {},
   "source": [
    "# #"
   ]
  },
  {
   "cell_type": "markdown",
   "id": "95d5ce9a-1e32-4193-8139-e52bfa3fa3f6",
   "metadata": {},
   "source": [
    "# Data cleaning pada data dengan nilai duplikat #"
   ]
  },
  {
   "cell_type": "code",
   "execution_count": 122,
   "id": "de616eb4-281d-4b06-bed7-a3fe020fb0a4",
   "metadata": {},
   "outputs": [
    {
     "data": {
      "text/html": [
       "<div>\n",
       "<style scoped>\n",
       "    .dataframe tbody tr th:only-of-type {\n",
       "        vertical-align: middle;\n",
       "    }\n",
       "\n",
       "    .dataframe tbody tr th {\n",
       "        vertical-align: top;\n",
       "    }\n",
       "\n",
       "    .dataframe thead th {\n",
       "        text-align: right;\n",
       "    }\n",
       "</style>\n",
       "<table border=\"1\" class=\"dataframe\">\n",
       "  <thead>\n",
       "    <tr style=\"text-align: right;\">\n",
       "      <th></th>\n",
       "      <th>Victim Name</th>\n",
       "      <th>Victim Age</th>\n",
       "      <th>Victim Gender</th>\n",
       "      <th>Victim Race</th>\n",
       "      <th>Victim Image URL</th>\n",
       "      <th>Date</th>\n",
       "      <th>Street Address of Incident</th>\n",
       "      <th>City</th>\n",
       "      <th>State</th>\n",
       "      <th>Zipcode</th>\n",
       "      <th>...</th>\n",
       "      <th>Fatal Encounters ID</th>\n",
       "      <th>Encounter Type</th>\n",
       "      <th>Reason for Encounter</th>\n",
       "      <th>Officer Name</th>\n",
       "      <th>Officer Race</th>\n",
       "      <th>Past Shootings by Officer</th>\n",
       "      <th>Call for Service</th>\n",
       "      <th>Encounter Type (details)</th>\n",
       "      <th>Reason for Encounter (details)</th>\n",
       "      <th>Number of Officers Involved</th>\n",
       "    </tr>\n",
       "  </thead>\n",
       "  <tbody>\n",
       "    <tr>\n",
       "      <th>13</th>\n",
       "      <td>Name withheld by police</td>\n",
       "      <td>36.811464</td>\n",
       "      <td>Male</td>\n",
       "      <td>Unknown</td>\n",
       "      <td>Texarkana Police Department</td>\n",
       "      <td>6/25/2021</td>\n",
       "      <td>2635 N. 7th St.</td>\n",
       "      <td>Fife</td>\n",
       "      <td>Texarkana Police Department</td>\n",
       "      <td>Texarkana Police Department</td>\n",
       "      <td>...</td>\n",
       "      <td>20708.109019</td>\n",
       "      <td>Other Non-Violent Offense</td>\n",
       "      <td>Stolen Vehicle</td>\n",
       "      <td>NaN</td>\n",
       "      <td>Unknown</td>\n",
       "      <td>Nan</td>\n",
       "      <td>Yes</td>\n",
       "      <td>NaN</td>\n",
       "      <td>NaN</td>\n",
       "      <td>NaN</td>\n",
       "    </tr>\n",
       "  </tbody>\n",
       "</table>\n",
       "<p>1 rows × 38 columns</p>\n",
       "</div>"
      ],
      "text/plain": [
       "                Victim Name  Victim Age Victim Gender Victim Race  \\\n",
       "13  Name withheld by police   36.811464          Male     Unknown   \n",
       "\n",
       "               Victim Image URL       Date Street Address of Incident  City  \\\n",
       "13  Texarkana Police Department  6/25/2021            2635 N. 7th St.  Fife   \n",
       "\n",
       "                          State                      Zipcode  ...  \\\n",
       "13  Texarkana Police Department  Texarkana Police Department  ...   \n",
       "\n",
       "   Fatal Encounters ID             Encounter Type Reason for Encounter  \\\n",
       "13        20708.109019  Other Non-Violent Offense       Stolen Vehicle   \n",
       "\n",
       "   Officer Name Officer Race Past Shootings by Officer Call for Service  \\\n",
       "13          NaN      Unknown                       Nan              Yes   \n",
       "\n",
       "   Encounter Type (details) Reason for Encounter (details)  \\\n",
       "13                      NaN                            NaN   \n",
       "\n",
       "   Number of Officers Involved  \n",
       "13                         NaN  \n",
       "\n",
       "[1 rows x 38 columns]"
      ]
     },
     "execution_count": 122,
     "metadata": {},
     "output_type": "execute_result"
    }
   ],
   "source": [
    "df[df.duplicated()]"
   ]
  },
  {
   "cell_type": "markdown",
   "id": "52eef172-e945-4156-88d9-48a4cbab1c88",
   "metadata": {},
   "source": [
    "# #"
   ]
  },
  {
   "cell_type": "markdown",
   "id": "76c7b7d4-97d4-47ef-bafa-e1fa3f03f0b4",
   "metadata": {},
   "source": [
    "# normalisasi data pada salah satu attribute menggunakan Min Max scaler #"
   ]
  },
  {
   "cell_type": "markdown",
   "id": "5760de9a-42cb-4b7c-82b9-c7aa51f53dc5",
   "metadata": {},
   "source": [
    "## Copy Dataset ##"
   ]
  },
  {
   "cell_type": "code",
   "execution_count": 123,
   "id": "a4a36f99-f875-4d02-87d0-bbf684c69f52",
   "metadata": {},
   "outputs": [],
   "source": [
    "df2 = df.copy()"
   ]
  },
  {
   "cell_type": "markdown",
   "id": "191bb3be-37a9-4d0c-b165-0a53d36bb258",
   "metadata": {},
   "source": [
    "## Proses Normalisasi Atribut ##"
   ]
  },
  {
   "cell_type": "code",
   "execution_count": 125,
   "id": "2c14baa8-6e08-45b6-8085-756e8ef304c0",
   "metadata": {},
   "outputs": [
    {
     "data": {
      "text/html": [
       "<div>\n",
       "<style scoped>\n",
       "    .dataframe tbody tr th:only-of-type {\n",
       "        vertical-align: middle;\n",
       "    }\n",
       "\n",
       "    .dataframe tbody tr th {\n",
       "        vertical-align: top;\n",
       "    }\n",
       "\n",
       "    .dataframe thead th {\n",
       "        text-align: right;\n",
       "    }\n",
       "</style>\n",
       "<table border=\"1\" class=\"dataframe\">\n",
       "  <thead>\n",
       "    <tr style=\"text-align: right;\">\n",
       "      <th></th>\n",
       "      <th>0</th>\n",
       "      <th>1</th>\n",
       "    </tr>\n",
       "  </thead>\n",
       "  <tbody>\n",
       "    <tr>\n",
       "      <th>0</th>\n",
       "      <td>0.264151</td>\n",
       "      <td>0.142857</td>\n",
       "    </tr>\n",
       "    <tr>\n",
       "      <th>1</th>\n",
       "      <td>0.471698</td>\n",
       "      <td>NaN</td>\n",
       "    </tr>\n",
       "    <tr>\n",
       "      <th>2</th>\n",
       "      <td>0.537736</td>\n",
       "      <td>NaN</td>\n",
       "    </tr>\n",
       "    <tr>\n",
       "      <th>3</th>\n",
       "      <td>0.292453</td>\n",
       "      <td>NaN</td>\n",
       "    </tr>\n",
       "    <tr>\n",
       "      <th>4</th>\n",
       "      <td>0.337844</td>\n",
       "      <td>NaN</td>\n",
       "    </tr>\n",
       "  </tbody>\n",
       "</table>\n",
       "</div>"
      ],
      "text/plain": [
       "          0         1\n",
       "0  0.264151  0.142857\n",
       "1  0.471698       NaN\n",
       "2  0.537736       NaN\n",
       "3  0.292453       NaN\n",
       "4  0.337844       NaN"
      ]
     },
     "execution_count": 125,
     "metadata": {},
     "output_type": "execute_result"
    }
   ],
   "source": [
    "from sklearn.preprocessing import MinMaxScaler\n",
    "\n",
    "min_max_scaler = MinMaxScaler()\n",
    "X_df2 = min_max_scaler.fit_transform(\n",
    "    df[['Victim Age', 'Number of Officers Involved']]\n",
    ")\n",
    "\n",
    "data_normalization = pd.DataFrame(X_df2)\n",
    "data_normalization.head()"
   ]
  },
  {
   "cell_type": "markdown",
   "id": "c6635ba0-a8a2-4ec8-ad50-98b229734fcb",
   "metadata": {},
   "source": [
    "# #"
   ]
  },
  {
   "cell_type": "markdown",
   "id": "2c50bb9f-ff51-4f4e-8d9a-3039b9edd7b9",
   "metadata": {},
   "source": [
    "# standarisasi pada dataset #"
   ]
  },
  {
   "cell_type": "markdown",
   "id": "94883515-3591-4f04-a5a9-482475b3f10a",
   "metadata": {},
   "source": [
    "## Copy Dataset ##"
   ]
  },
  {
   "cell_type": "code",
   "execution_count": null,
   "id": "0e44a8c0-aaf3-46f9-b8a2-e6d492bac5d9",
   "metadata": {},
   "outputs": [],
   "source": [
    "df2 = df.copy()"
   ]
  },
  {
   "cell_type": "markdown",
   "id": "a2c2cf1d-280f-49b6-8f08-dce86e33167b",
   "metadata": {},
   "source": [
    "## Proses Normalisasi Atribut ##"
   ]
  },
  {
   "cell_type": "code",
   "execution_count": null,
   "id": "a89a1fef-6e8a-41f7-8215-a135d21533ca",
   "metadata": {},
   "outputs": [],
   "source": [
    "from sklearn.preprocessing import StandardScaler\n",
    "ss = StandardScaler()\n",
    "\n",
    "X_df2 = ss.fit_transform(\n",
    "    df[['Victim Age', 'Zipcode', 'Number of Officers Involved']]\n",
    ")\n",
    "\n",
    "data_standarization = pd.DataFrame(X_df2)\n",
    "data_standarization.head()"
   ]
  },
  {
   "cell_type": "markdown",
   "id": "02c23074-ff37-45aa-b2ec-d183f6a38849",
   "metadata": {},
   "source": [
    "# #"
   ]
  },
  {
   "cell_type": "markdown",
   "id": "166ad901-3ba0-4417-8a56-4c26537d6176",
   "metadata": {},
   "source": [
    "# Mengganti salah satu Atribut bertipe data angka #"
   ]
  },
  {
   "cell_type": "markdown",
   "id": "a536afd9-92d3-4e62-bf86-0ff46a4d01ff",
   "metadata": {},
   "source": [
    "### Sebelum mengganti Atribut \"Victim Age\" dari tipe data Float menjadi tipe data integer ###"
   ]
  },
  {
   "cell_type": "code",
   "execution_count": null,
   "id": "e29b51bf-3dba-4d02-a2da-436897ca5ce6",
   "metadata": {},
   "outputs": [],
   "source": [
    "df.dtypes"
   ]
  },
  {
   "cell_type": "code",
   "execution_count": null,
   "id": "d7783e29-3479-41bb-8ed2-862cbb2ff06f",
   "metadata": {},
   "outputs": [],
   "source": [
    "df[\"Victim Age\"] = df[\"Victim Age\"].astype(\"int\")"
   ]
  },
  {
   "cell_type": "markdown",
   "id": "b1e3cb76-8016-4b00-a0cb-d2150ab25129",
   "metadata": {},
   "source": [
    "### Setelah Atribut \"Victim Age\" Diganti tipe datanya menjadi Integer ###"
   ]
  },
  {
   "cell_type": "code",
   "execution_count": null,
   "id": "d5211771-cff2-465e-8ad3-7c9b3af08fcb",
   "metadata": {},
   "outputs": [],
   "source": [
    "df.dtypes"
   ]
  },
  {
   "cell_type": "markdown",
   "id": "05974f79-2e4a-4e5c-aa6a-fe3dae3d341f",
   "metadata": {},
   "source": [
    "# #"
   ]
  },
  {
   "cell_type": "markdown",
   "id": "3396052b-6265-42d7-8328-a142a7881484",
   "metadata": {},
   "source": [
    "# Melakukan One Hot Encoding pada Dataset #"
   ]
  },
  {
   "cell_type": "markdown",
   "id": "53e2409c-b386-4adc-afc6-42311bdfc217",
   "metadata": {},
   "source": [
    "## Disini saya memakai attribut yang bertipe data categorical yaitu \"Victim Gender \" ##"
   ]
  },
  {
   "cell_type": "code",
   "execution_count": null,
   "id": "cba65f45-fceb-4001-ab91-db096ee481ac",
   "metadata": {},
   "outputs": [],
   "source": [
    "from sklearn.preprocessing import OneHotEncoder\n",
    "\n",
    "onehotencoder = OneHotEncoder(sparse=False)\n",
    "VG_encoded2 = onehotencoder.fit_transform(df[[\"Victim Gender\"]])\n",
    "\n",
    "df2 = pd.DataFrame(VG_encoded2)\n",
    "df = df.join(df2)"
   ]
  },
  {
   "cell_type": "code",
   "execution_count": 127,
   "id": "f6cfd6b1-51c3-484f-ad56-a09e123b7ddf",
   "metadata": {},
   "outputs": [
    {
     "data": {
      "text/html": [
       "<div>\n",
       "<style scoped>\n",
       "    .dataframe tbody tr th:only-of-type {\n",
       "        vertical-align: middle;\n",
       "    }\n",
       "\n",
       "    .dataframe tbody tr th {\n",
       "        vertical-align: top;\n",
       "    }\n",
       "\n",
       "    .dataframe thead th {\n",
       "        text-align: right;\n",
       "    }\n",
       "</style>\n",
       "<table border=\"1\" class=\"dataframe\">\n",
       "  <thead>\n",
       "    <tr style=\"text-align: right;\">\n",
       "      <th></th>\n",
       "      <th>Victim Name</th>\n",
       "      <th>Victim Age</th>\n",
       "      <th>Victim Gender</th>\n",
       "      <th>Victim Race</th>\n",
       "      <th>Victim Image URL</th>\n",
       "      <th>Date</th>\n",
       "      <th>Street Address of Incident</th>\n",
       "      <th>City</th>\n",
       "      <th>State</th>\n",
       "      <th>Zipcode</th>\n",
       "      <th>...</th>\n",
       "      <th>Fatal Encounters ID</th>\n",
       "      <th>Encounter Type</th>\n",
       "      <th>Reason for Encounter</th>\n",
       "      <th>Officer Name</th>\n",
       "      <th>Officer Race</th>\n",
       "      <th>Past Shootings by Officer</th>\n",
       "      <th>Call for Service</th>\n",
       "      <th>Encounter Type (details)</th>\n",
       "      <th>Reason for Encounter (details)</th>\n",
       "      <th>Number of Officers Involved</th>\n",
       "    </tr>\n",
       "  </thead>\n",
       "  <tbody>\n",
       "    <tr>\n",
       "      <th>0</th>\n",
       "      <td>Joseph Lee Humbles keren</td>\n",
       "      <td>29.000000</td>\n",
       "      <td>Male</td>\n",
       "      <td>Unknown</td>\n",
       "      <td>NaN</td>\n",
       "      <td>6/30/2021</td>\n",
       "      <td>710 Peachtree St. NE</td>\n",
       "      <td>Atlanta</td>\n",
       "      <td>GA</td>\n",
       "      <td>30308</td>\n",
       "      <td>...</td>\n",
       "      <td>20708.109019</td>\n",
       "      <td>Violent Crime</td>\n",
       "      <td>Shooting</td>\n",
       "      <td>Khuong Thai, Joshua Lovreta</td>\n",
       "      <td>Unknown</td>\n",
       "      <td>Nan</td>\n",
       "      <td>Yes</td>\n",
       "      <td>NaN</td>\n",
       "      <td>NaN</td>\n",
       "      <td>2.0</td>\n",
       "    </tr>\n",
       "    <tr>\n",
       "      <th>1</th>\n",
       "      <td>John Hayden Inabinet</td>\n",
       "      <td>51.000000</td>\n",
       "      <td>Male</td>\n",
       "      <td>Unknown</td>\n",
       "      <td>NaN</td>\n",
       "      <td>6/30/2021</td>\n",
       "      <td>Burke Road</td>\n",
       "      <td>St. Matthews</td>\n",
       "      <td>SC</td>\n",
       "      <td>NaN</td>\n",
       "      <td>...</td>\n",
       "      <td>20708.109019</td>\n",
       "      <td>Violent Crime</td>\n",
       "      <td>Shooting</td>\n",
       "      <td>NaN</td>\n",
       "      <td>Unknown</td>\n",
       "      <td>Nan</td>\n",
       "      <td>Yes</td>\n",
       "      <td>NaN</td>\n",
       "      <td>NaN</td>\n",
       "      <td>NaN</td>\n",
       "    </tr>\n",
       "    <tr>\n",
       "      <th>2</th>\n",
       "      <td>Larry Hunt</td>\n",
       "      <td>58.000000</td>\n",
       "      <td>Male</td>\n",
       "      <td>Unknown</td>\n",
       "      <td>NaN</td>\n",
       "      <td>6/29/2021</td>\n",
       "      <td>NaN</td>\n",
       "      <td>Bayard</td>\n",
       "      <td>NE</td>\n",
       "      <td>NaN</td>\n",
       "      <td>...</td>\n",
       "      <td>20708.109019</td>\n",
       "      <td>Other Non-Violent Offense</td>\n",
       "      <td>Warrant</td>\n",
       "      <td>NaN</td>\n",
       "      <td>Unknown</td>\n",
       "      <td>Nan</td>\n",
       "      <td>No</td>\n",
       "      <td>NaN</td>\n",
       "      <td>Drugs</td>\n",
       "      <td>NaN</td>\n",
       "    </tr>\n",
       "    <tr>\n",
       "      <th>3</th>\n",
       "      <td>Philip Sanders</td>\n",
       "      <td>32.000000</td>\n",
       "      <td>Male</td>\n",
       "      <td>Unknown</td>\n",
       "      <td>NaN</td>\n",
       "      <td>6/29/2021</td>\n",
       "      <td>9500 Blue Jay St.</td>\n",
       "      <td>Corpus Christi</td>\n",
       "      <td>TX</td>\n",
       "      <td>78418</td>\n",
       "      <td>...</td>\n",
       "      <td>20708.109019</td>\n",
       "      <td>Other Non-Violent Offense</td>\n",
       "      <td>Vehicle Theft</td>\n",
       "      <td>NaN</td>\n",
       "      <td>Unknown</td>\n",
       "      <td>Nan</td>\n",
       "      <td>Yes</td>\n",
       "      <td>NaN</td>\n",
       "      <td>NaN</td>\n",
       "      <td>NaN</td>\n",
       "    </tr>\n",
       "    <tr>\n",
       "      <th>4</th>\n",
       "      <td>Name withheld by police</td>\n",
       "      <td>36.811464</td>\n",
       "      <td>Male</td>\n",
       "      <td>Unknown</td>\n",
       "      <td>NaN</td>\n",
       "      <td>6/28/2021</td>\n",
       "      <td>County Road A-12</td>\n",
       "      <td>NaN</td>\n",
       "      <td>CA</td>\n",
       "      <td>78418</td>\n",
       "      <td>...</td>\n",
       "      <td>20708.109019</td>\n",
       "      <td>Other Non-Violent Offense</td>\n",
       "      <td>Refusing Evacuation Order</td>\n",
       "      <td>NaN</td>\n",
       "      <td>Unknown</td>\n",
       "      <td>Nan</td>\n",
       "      <td>No</td>\n",
       "      <td>NaN</td>\n",
       "      <td>Trespassing</td>\n",
       "      <td>NaN</td>\n",
       "    </tr>\n",
       "  </tbody>\n",
       "</table>\n",
       "<p>5 rows × 38 columns</p>\n",
       "</div>"
      ],
      "text/plain": [
       "                Victim Name  Victim Age Victim Gender Victim Race  \\\n",
       "0  Joseph Lee Humbles keren   29.000000          Male     Unknown   \n",
       "1      John Hayden Inabinet   51.000000          Male     Unknown   \n",
       "2                Larry Hunt   58.000000          Male     Unknown   \n",
       "3            Philip Sanders   32.000000          Male     Unknown   \n",
       "4   Name withheld by police   36.811464          Male     Unknown   \n",
       "\n",
       "  Victim Image URL       Date Street Address of Incident            City  \\\n",
       "0              NaN  6/30/2021       710 Peachtree St. NE         Atlanta   \n",
       "1              NaN  6/30/2021                 Burke Road    St. Matthews   \n",
       "2              NaN  6/29/2021                        NaN          Bayard   \n",
       "3              NaN  6/29/2021          9500 Blue Jay St.  Corpus Christi   \n",
       "4              NaN  6/28/2021           County Road A-12             NaN   \n",
       "\n",
       "  State Zipcode  ... Fatal Encounters ID             Encounter Type  \\\n",
       "0    GA   30308  ...        20708.109019              Violent Crime   \n",
       "1    SC     NaN  ...        20708.109019              Violent Crime   \n",
       "2    NE     NaN  ...        20708.109019  Other Non-Violent Offense   \n",
       "3    TX   78418  ...        20708.109019  Other Non-Violent Offense   \n",
       "4    CA   78418  ...        20708.109019  Other Non-Violent Offense   \n",
       "\n",
       "        Reason for Encounter                 Officer Name Officer Race  \\\n",
       "0                   Shooting  Khuong Thai, Joshua Lovreta      Unknown   \n",
       "1                   Shooting                          NaN      Unknown   \n",
       "2                    Warrant                          NaN      Unknown   \n",
       "3              Vehicle Theft                          NaN      Unknown   \n",
       "4  Refusing Evacuation Order                          NaN      Unknown   \n",
       "\n",
       "  Past Shootings by Officer Call for Service Encounter Type (details)  \\\n",
       "0                       Nan              Yes                      NaN   \n",
       "1                       Nan              Yes                      NaN   \n",
       "2                       Nan               No                      NaN   \n",
       "3                       Nan              Yes                      NaN   \n",
       "4                       Nan               No                      NaN   \n",
       "\n",
       "  Reason for Encounter (details) Number of Officers Involved  \n",
       "0                            NaN                         2.0  \n",
       "1                            NaN                         NaN  \n",
       "2                          Drugs                         NaN  \n",
       "3                            NaN                         NaN  \n",
       "4                    Trespassing                         NaN  \n",
       "\n",
       "[5 rows x 38 columns]"
      ]
     },
     "execution_count": 127,
     "metadata": {},
     "output_type": "execute_result"
    }
   ],
   "source": [
    "df.head()"
   ]
  }
 ],
 "metadata": {
  "kernelspec": {
   "display_name": "dimasarya_019",
   "language": "python",
   "name": "dimasarya_019"
  },
  "language_info": {
   "codemirror_mode": {
    "name": "ipython",
    "version": 3
   },
   "file_extension": ".py",
   "mimetype": "text/x-python",
   "name": "python",
   "nbconvert_exporter": "python",
   "pygments_lexer": "ipython3",
   "version": "3.10.7"
  }
 },
 "nbformat": 4,
 "nbformat_minor": 5
}
