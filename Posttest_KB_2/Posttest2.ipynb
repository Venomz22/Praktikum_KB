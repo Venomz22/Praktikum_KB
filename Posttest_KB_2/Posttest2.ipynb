{
 "cells": [
  {
   "cell_type": "markdown",
   "id": "a873fe33-3faa-4e51-bd7b-fd2f3707d1df",
   "metadata": {},
   "source": [
    "# Dimas Arya Nugraha #"
   ]
  },
  {
   "cell_type": "markdown",
   "id": "8a040d70-1a03-4693-a1d5-548d525c5987",
   "metadata": {},
   "source": [
    "# 2109106019 #"
   ]
  },
  {
   "cell_type": "markdown",
   "id": "2d343b39-b45b-48cd-9398-27ce74dbd53a",
   "metadata": {},
   "source": [
    "# Posttest 2 Kecerdasan Buatan #"
   ]
  },
  {
   "cell_type": "markdown",
   "id": "d8c62d54-1201-42f3-9053-114413931b6a",
   "metadata": {},
   "source": [
    "## Mengimport Library pandas dan numpy ##"
   ]
  },
  {
   "cell_type": "code",
   "execution_count": 130,
   "id": "d8f6fa76-f241-43e1-9603-04090254ab92",
   "metadata": {},
   "outputs": [],
   "source": [
    "## Library ##"
   ]
  },
  {
   "cell_type": "code",
   "execution_count": 131,
   "id": "3253b3f2-07f2-4416-a2a6-46cbca42c316",
   "metadata": {},
   "outputs": [],
   "source": [
    "import pandas as pd\n",
    "import numpy as np\n"
   ]
  },
  {
   "cell_type": "markdown",
   "id": "3597cacd-527a-4e9b-81e3-0be48f988544",
   "metadata": {},
   "source": [
    "## Mengimport File CSV ##"
   ]
  },
  {
   "cell_type": "code",
   "execution_count": 132,
   "id": "b7e894b1-65c7-4a3b-99d1-2959e14a9ebb",
   "metadata": {},
   "outputs": [],
   "source": [
    "df = pd.read_csv(\"Anime.csv\")"
   ]
  },
  {
   "cell_type": "markdown",
   "id": "c0bb864b-db1c-4649-97ad-05309fd43389",
   "metadata": {},
   "source": [
    "### Menginput Data ke dalam Dictionary ###"
   ]
  },
  {
   "cell_type": "code",
   "execution_count": 133,
   "id": "7dc8a83f-2fe0-442c-a45e-68e6b40fb552",
   "metadata": {},
   "outputs": [],
   "source": [
    "Data = {\n",
    "    'total_records' : [],\n",
    "    'object_attributes' : 0,\n",
    "    'number_attributes': 0,\n",
    "    'null_attributes': 0,\n",
    "    'attributes' : 0,\n",
    "}\n",
    "\n",
    "Data['total_records'] = df.shape[0]\n",
    "Data['object_attributes'] = list(df.select_dtypes(['object']).columns)\n",
    "Data['number_attributes'] = list(df.select_dtypes(['float64', 'int64']).columns)\n",
    "Data['null_attributes'] = list(df.loc[:, df.isnull().any()].columns)\n",
    "Data['attributes'] = list(df.columns.values)    "
   ]
  },
  {
   "cell_type": "markdown",
   "id": "186e48f2-a910-4827-aa13-15b7b850f5a0",
   "metadata": {},
   "source": [
    "## Mencetak Hasil Data Yang telah dimasukan ke Dictionary ##"
   ]
  },
  {
   "cell_type": "markdown",
   "id": "4a41b433-7aea-4748-82d8-a59af51e25f9",
   "metadata": {},
   "source": [
    "### Mencari total Record dari Dataset ###"
   ]
  },
  {
   "cell_type": "code",
   "execution_count": 134,
   "id": "45533185-cec4-4f36-9e6f-27330f2c97f5",
   "metadata": {},
   "outputs": [
    {
     "name": "stdout",
     "output_type": "stream",
     "text": [
      "Total Record =  17562\n"
     ]
    }
   ],
   "source": [
    "print(\"Total Record = \", Data['total_records'])"
   ]
  },
  {
   "cell_type": "markdown",
   "id": "79627f2b-d89d-4aeb-90d0-f70f8b042552",
   "metadata": {
    "tags": []
   },
   "source": [
    "## Mencari Data semua Atribut ##"
   ]
  },
  {
   "cell_type": "markdown",
   "id": "a93f5271-122e-4516-9341-663ef15966a1",
   "metadata": {},
   "source": [
    "#### Total Atribut ###"
   ]
  },
  {
   "cell_type": "code",
   "execution_count": 135,
   "id": "45cf2024-e29e-4e8a-b720-1efe60b24435",
   "metadata": {},
   "outputs": [
    {
     "name": "stdout",
     "output_type": "stream",
     "text": [
      "Total Atribut = 35\n"
     ]
    }
   ],
   "source": [
    "print(\"Total Atribut =\",len(Data['attributes']))"
   ]
  },
  {
   "cell_type": "markdown",
   "id": "6ebfb9fa-0f04-45cc-aa08-de33c6a3f4b0",
   "metadata": {},
   "source": [
    "#### Nama-nama Atribut ####"
   ]
  },
  {
   "cell_type": "code",
   "execution_count": 149,
   "id": "71bff3a4-9ee4-4560-b8f3-78bfeca5992d",
   "metadata": {},
   "outputs": [
    {
     "name": "stdout",
     "output_type": "stream",
     "text": [
      "Nama-nama Attribute : ['MAL_ID', 'Name', 'Score', 'Genres', 'English name', 'Japanese name', 'Type', 'Episodes', 'Aired', 'Premiered', 'Producers', 'Licensors', 'Studios', 'Source', 'Duration', 'Rating', 'Ranked', 'Popularity', 'Members', 'Favorites', 'Watching', 'Completed', 'On-Hold', 'Dropped', 'Plan to Watch', 'Score-10', 'Score-9', 'Score-8', 'Score-7', 'Score-6', 'Score-5', 'Score-4', 'Score-3', 'Score-2', 'Score-1']\n"
     ]
    }
   ],
   "source": [
    "print (\"Nama-nama Attribute :\", Data['attributes'])"
   ]
  },
  {
   "cell_type": "markdown",
   "id": "60347170-cb87-496e-82ed-f211b73373d5",
   "metadata": {},
   "source": [
    "#### Total Atribut bertipe Object ####"
   ]
  },
  {
   "cell_type": "code",
   "execution_count": 136,
   "id": "4bb95e81-06d6-4fb9-9cb0-6613181d5e47",
   "metadata": {},
   "outputs": [
    {
     "name": "stdout",
     "output_type": "stream",
     "text": [
      "Total Atribut tipe Objek : 26\n"
     ]
    }
   ],
   "source": [
    "print(\"Total Atribut tipe Objek :\", len(Data['object_attributes']))"
   ]
  },
  {
   "cell_type": "markdown",
   "id": "1aa6842f-0909-4f39-a7ec-491e8a622e23",
   "metadata": {},
   "source": [
    "#### Total Atribut bertipe angka ###"
   ]
  },
  {
   "cell_type": "code",
   "execution_count": 137,
   "id": "e953a6f8-5b55-435b-a276-a756799ddefa",
   "metadata": {},
   "outputs": [
    {
     "name": "stdout",
     "output_type": "stream",
     "text": [
      "Total Atribut tipe Angka : 9\n"
     ]
    }
   ],
   "source": [
    "print(\"Total Atribut tipe Angka :\", len(Data['number_attributes']))"
   ]
  },
  {
   "cell_type": "markdown",
   "id": "7ef92f3c-e61d-4ae7-934e-c2f7ddda7310",
   "metadata": {},
   "source": [
    "#### Total Atribut Null ####"
   ]
  },
  {
   "cell_type": "code",
   "execution_count": 138,
   "id": "2f9923e7-1e9b-44e4-b1cb-6ac143240142",
   "metadata": {},
   "outputs": [
    {
     "name": "stdout",
     "output_type": "stream",
     "text": [
      "Total Atribut Null : 0\n"
     ]
    }
   ],
   "source": [
    "print(\"Total Atribut Null :\", len(Data['null_attributes']))"
   ]
  },
  {
   "cell_type": "markdown",
   "id": "ba8edf1f-ad4c-4cb4-a7e1-a0f0c544593e",
   "metadata": {},
   "source": [
    "## Menampilan rata-rata, standar deviasi, nilai minimum, nilai maksimum, Q1, Q2, dan Q3 dari attribute bertipe angka ##"
   ]
  },
  {
   "cell_type": "code",
   "execution_count": 139,
   "id": "8a97ad44-0b9b-481e-85c3-1127d71dd7ce",
   "metadata": {},
   "outputs": [
    {
     "data": {
      "text/html": [
       "<div>\n",
       "<style scoped>\n",
       "    .dataframe tbody tr th:only-of-type {\n",
       "        vertical-align: middle;\n",
       "    }\n",
       "\n",
       "    .dataframe tbody tr th {\n",
       "        vertical-align: top;\n",
       "    }\n",
       "\n",
       "    .dataframe thead th {\n",
       "        text-align: right;\n",
       "    }\n",
       "</style>\n",
       "<table border=\"1\" class=\"dataframe\">\n",
       "  <thead>\n",
       "    <tr style=\"text-align: right;\">\n",
       "      <th></th>\n",
       "      <th>MAL_ID</th>\n",
       "      <th>Popularity</th>\n",
       "      <th>Members</th>\n",
       "      <th>Favorites</th>\n",
       "      <th>Watching</th>\n",
       "      <th>Completed</th>\n",
       "      <th>On-Hold</th>\n",
       "      <th>Dropped</th>\n",
       "      <th>Plan to Watch</th>\n",
       "    </tr>\n",
       "  </thead>\n",
       "  <tbody>\n",
       "    <tr>\n",
       "      <th>count</th>\n",
       "      <td>17,562.000</td>\n",
       "      <td>17,562.000</td>\n",
       "      <td>17,562.000</td>\n",
       "      <td>17,562.000</td>\n",
       "      <td>17,562.000</td>\n",
       "      <td>17,562.000</td>\n",
       "      <td>17,562.000</td>\n",
       "      <td>17,562.000</td>\n",
       "      <td>17,562.000</td>\n",
       "    </tr>\n",
       "    <tr>\n",
       "      <th>mean</th>\n",
       "      <td>21,477.192</td>\n",
       "      <td>8,763.452</td>\n",
       "      <td>34,658.540</td>\n",
       "      <td>457.746</td>\n",
       "      <td>2,231.488</td>\n",
       "      <td>22,095.571</td>\n",
       "      <td>955.050</td>\n",
       "      <td>1,176.600</td>\n",
       "      <td>8,199.831</td>\n",
       "    </tr>\n",
       "    <tr>\n",
       "      <th>std</th>\n",
       "      <td>14,900.093</td>\n",
       "      <td>5,059.327</td>\n",
       "      <td>125,282.141</td>\n",
       "      <td>4,063.473</td>\n",
       "      <td>14,046.688</td>\n",
       "      <td>91,009.189</td>\n",
       "      <td>4,275.675</td>\n",
       "      <td>4,740.349</td>\n",
       "      <td>23,777.692</td>\n",
       "    </tr>\n",
       "    <tr>\n",
       "      <th>min</th>\n",
       "      <td>1.000</td>\n",
       "      <td>0.000</td>\n",
       "      <td>1.000</td>\n",
       "      <td>0.000</td>\n",
       "      <td>0.000</td>\n",
       "      <td>0.000</td>\n",
       "      <td>0.000</td>\n",
       "      <td>0.000</td>\n",
       "      <td>1.000</td>\n",
       "    </tr>\n",
       "    <tr>\n",
       "      <th>25%</th>\n",
       "      <td>5,953.500</td>\n",
       "      <td>4,383.500</td>\n",
       "      <td>336.000</td>\n",
       "      <td>0.000</td>\n",
       "      <td>13.000</td>\n",
       "      <td>111.000</td>\n",
       "      <td>6.000</td>\n",
       "      <td>37.000</td>\n",
       "      <td>112.000</td>\n",
       "    </tr>\n",
       "    <tr>\n",
       "      <th>50%</th>\n",
       "      <td>22,820.000</td>\n",
       "      <td>8,762.500</td>\n",
       "      <td>2,065.000</td>\n",
       "      <td>3.000</td>\n",
       "      <td>73.000</td>\n",
       "      <td>817.500</td>\n",
       "      <td>45.000</td>\n",
       "      <td>77.000</td>\n",
       "      <td>752.500</td>\n",
       "    </tr>\n",
       "    <tr>\n",
       "      <th>75%</th>\n",
       "      <td>35,624.750</td>\n",
       "      <td>13,145.000</td>\n",
       "      <td>13,223.250</td>\n",
       "      <td>31.000</td>\n",
       "      <td>522.000</td>\n",
       "      <td>6,478.000</td>\n",
       "      <td>291.750</td>\n",
       "      <td>271.000</td>\n",
       "      <td>4,135.500</td>\n",
       "    </tr>\n",
       "    <tr>\n",
       "      <th>max</th>\n",
       "      <td>48,492.000</td>\n",
       "      <td>17,565.000</td>\n",
       "      <td>2,589,552.000</td>\n",
       "      <td>183,914.000</td>\n",
       "      <td>887,333.000</td>\n",
       "      <td>2,182,587.000</td>\n",
       "      <td>187,919.000</td>\n",
       "      <td>174,710.000</td>\n",
       "      <td>425,531.000</td>\n",
       "    </tr>\n",
       "  </tbody>\n",
       "</table>\n",
       "</div>"
      ],
      "text/plain": [
       "          MAL_ID  Popularity       Members   Favorites    Watching  \\\n",
       "count 17,562.000  17,562.000    17,562.000  17,562.000  17,562.000   \n",
       "mean  21,477.192   8,763.452    34,658.540     457.746   2,231.488   \n",
       "std   14,900.093   5,059.327   125,282.141   4,063.473  14,046.688   \n",
       "min        1.000       0.000         1.000       0.000       0.000   \n",
       "25%    5,953.500   4,383.500       336.000       0.000      13.000   \n",
       "50%   22,820.000   8,762.500     2,065.000       3.000      73.000   \n",
       "75%   35,624.750  13,145.000    13,223.250      31.000     522.000   \n",
       "max   48,492.000  17,565.000 2,589,552.000 183,914.000 887,333.000   \n",
       "\n",
       "          Completed     On-Hold     Dropped  Plan to Watch  \n",
       "count    17,562.000  17,562.000  17,562.000     17,562.000  \n",
       "mean     22,095.571     955.050   1,176.600      8,199.831  \n",
       "std      91,009.189   4,275.675   4,740.349     23,777.692  \n",
       "min           0.000       0.000       0.000          1.000  \n",
       "25%         111.000       6.000      37.000        112.000  \n",
       "50%         817.500      45.000      77.000        752.500  \n",
       "75%       6,478.000     291.750     271.000      4,135.500  \n",
       "max   2,182,587.000 187,919.000 174,710.000    425,531.000  "
      ]
     },
     "execution_count": 139,
     "metadata": {},
     "output_type": "execute_result"
    }
   ],
   "source": [
    "df.describe()"
   ]
  },
  {
   "cell_type": "markdown",
   "id": "71087446-888e-4c00-8a82-2ecb6353f168",
   "metadata": {},
   "source": [
    "## Menampilan nilai Korelasi Atribut bertipe Angka ##"
   ]
  },
  {
   "cell_type": "code",
   "execution_count": 140,
   "id": "a4fabce5-ea63-4fc8-aacb-277827bc5822",
   "metadata": {},
   "outputs": [
    {
     "data": {
      "text/html": [
       "<div>\n",
       "<style scoped>\n",
       "    .dataframe tbody tr th:only-of-type {\n",
       "        vertical-align: middle;\n",
       "    }\n",
       "\n",
       "    .dataframe tbody tr th {\n",
       "        vertical-align: top;\n",
       "    }\n",
       "\n",
       "    .dataframe thead th {\n",
       "        text-align: right;\n",
       "    }\n",
       "</style>\n",
       "<table border=\"1\" class=\"dataframe\">\n",
       "  <thead>\n",
       "    <tr style=\"text-align: right;\">\n",
       "      <th></th>\n",
       "      <th>MAL_ID</th>\n",
       "      <th>Popularity</th>\n",
       "      <th>Members</th>\n",
       "      <th>Favorites</th>\n",
       "      <th>Watching</th>\n",
       "      <th>Completed</th>\n",
       "      <th>On-Hold</th>\n",
       "      <th>Dropped</th>\n",
       "      <th>Plan to Watch</th>\n",
       "    </tr>\n",
       "  </thead>\n",
       "  <tbody>\n",
       "    <tr>\n",
       "      <th>MAL_ID</th>\n",
       "      <td>1.000</td>\n",
       "      <td>0.356</td>\n",
       "      <td>-0.049</td>\n",
       "      <td>-0.042</td>\n",
       "      <td>0.023</td>\n",
       "      <td>-0.056</td>\n",
       "      <td>-0.069</td>\n",
       "      <td>-0.032</td>\n",
       "      <td>-0.039</td>\n",
       "    </tr>\n",
       "    <tr>\n",
       "      <th>Popularity</th>\n",
       "      <td>0.356</td>\n",
       "      <td>1.000</td>\n",
       "      <td>-0.419</td>\n",
       "      <td>-0.186</td>\n",
       "      <td>-0.245</td>\n",
       "      <td>-0.374</td>\n",
       "      <td>-0.338</td>\n",
       "      <td>-0.364</td>\n",
       "      <td>-0.497</td>\n",
       "    </tr>\n",
       "    <tr>\n",
       "      <th>Members</th>\n",
       "      <td>-0.049</td>\n",
       "      <td>-0.419</td>\n",
       "      <td>1.000</td>\n",
       "      <td>0.779</td>\n",
       "      <td>0.617</td>\n",
       "      <td>0.977</td>\n",
       "      <td>0.794</td>\n",
       "      <td>0.759</td>\n",
       "      <td>0.872</td>\n",
       "    </tr>\n",
       "    <tr>\n",
       "      <th>Favorites</th>\n",
       "      <td>-0.042</td>\n",
       "      <td>-0.186</td>\n",
       "      <td>0.779</td>\n",
       "      <td>1.000</td>\n",
       "      <td>0.607</td>\n",
       "      <td>0.749</td>\n",
       "      <td>0.739</td>\n",
       "      <td>0.588</td>\n",
       "      <td>0.626</td>\n",
       "    </tr>\n",
       "    <tr>\n",
       "      <th>Watching</th>\n",
       "      <td>0.023</td>\n",
       "      <td>-0.245</td>\n",
       "      <td>0.617</td>\n",
       "      <td>0.607</td>\n",
       "      <td>1.000</td>\n",
       "      <td>0.478</td>\n",
       "      <td>0.737</td>\n",
       "      <td>0.658</td>\n",
       "      <td>0.569</td>\n",
       "    </tr>\n",
       "    <tr>\n",
       "      <th>Completed</th>\n",
       "      <td>-0.056</td>\n",
       "      <td>-0.374</td>\n",
       "      <td>0.977</td>\n",
       "      <td>0.749</td>\n",
       "      <td>0.478</td>\n",
       "      <td>1.000</td>\n",
       "      <td>0.686</td>\n",
       "      <td>0.670</td>\n",
       "      <td>0.780</td>\n",
       "    </tr>\n",
       "    <tr>\n",
       "      <th>On-Hold</th>\n",
       "      <td>-0.069</td>\n",
       "      <td>-0.338</td>\n",
       "      <td>0.794</td>\n",
       "      <td>0.739</td>\n",
       "      <td>0.737</td>\n",
       "      <td>0.686</td>\n",
       "      <td>1.000</td>\n",
       "      <td>0.896</td>\n",
       "      <td>0.764</td>\n",
       "    </tr>\n",
       "    <tr>\n",
       "      <th>Dropped</th>\n",
       "      <td>-0.032</td>\n",
       "      <td>-0.364</td>\n",
       "      <td>0.759</td>\n",
       "      <td>0.588</td>\n",
       "      <td>0.658</td>\n",
       "      <td>0.670</td>\n",
       "      <td>0.896</td>\n",
       "      <td>1.000</td>\n",
       "      <td>0.684</td>\n",
       "    </tr>\n",
       "    <tr>\n",
       "      <th>Plan to Watch</th>\n",
       "      <td>-0.039</td>\n",
       "      <td>-0.497</td>\n",
       "      <td>0.872</td>\n",
       "      <td>0.626</td>\n",
       "      <td>0.569</td>\n",
       "      <td>0.780</td>\n",
       "      <td>0.764</td>\n",
       "      <td>0.684</td>\n",
       "      <td>1.000</td>\n",
       "    </tr>\n",
       "  </tbody>\n",
       "</table>\n",
       "</div>"
      ],
      "text/plain": [
       "               MAL_ID  Popularity  Members  Favorites  Watching  Completed  \\\n",
       "MAL_ID          1.000       0.356   -0.049     -0.042     0.023     -0.056   \n",
       "Popularity      0.356       1.000   -0.419     -0.186    -0.245     -0.374   \n",
       "Members        -0.049      -0.419    1.000      0.779     0.617      0.977   \n",
       "Favorites      -0.042      -0.186    0.779      1.000     0.607      0.749   \n",
       "Watching        0.023      -0.245    0.617      0.607     1.000      0.478   \n",
       "Completed      -0.056      -0.374    0.977      0.749     0.478      1.000   \n",
       "On-Hold        -0.069      -0.338    0.794      0.739     0.737      0.686   \n",
       "Dropped        -0.032      -0.364    0.759      0.588     0.658      0.670   \n",
       "Plan to Watch  -0.039      -0.497    0.872      0.626     0.569      0.780   \n",
       "\n",
       "               On-Hold  Dropped  Plan to Watch  \n",
       "MAL_ID          -0.069   -0.032         -0.039  \n",
       "Popularity      -0.338   -0.364         -0.497  \n",
       "Members          0.794    0.759          0.872  \n",
       "Favorites        0.739    0.588          0.626  \n",
       "Watching         0.737    0.658          0.569  \n",
       "Completed        0.686    0.670          0.780  \n",
       "On-Hold          1.000    0.896          0.764  \n",
       "Dropped          0.896    1.000          0.684  \n",
       "Plan to Watch    0.764    0.684          1.000  "
      ]
     },
     "execution_count": 140,
     "metadata": {},
     "output_type": "execute_result"
    }
   ],
   "source": [
    "df.corr()"
   ]
  },
  {
   "cell_type": "markdown",
   "id": "a936ede0-c109-4396-89a4-2bfcf59eabdc",
   "metadata": {},
   "source": [
    "## Mengubah salah satu atribut bertipe angka menjadi desimal (3 angka dibelakang koma) ##"
   ]
  },
  {
   "cell_type": "code",
   "execution_count": 141,
   "id": "aafe160b-7d7b-4eaa-8c41-0d4f3c328fee",
   "metadata": {},
   "outputs": [
    {
     "name": "stdout",
     "output_type": "stream",
     "text": [
      "<class 'pandas.core.frame.DataFrame'>\n",
      "RangeIndex: 17562 entries, 0 to 17561\n",
      "Data columns (total 35 columns):\n",
      " #   Column         Non-Null Count  Dtype \n",
      "---  ------         --------------  ----- \n",
      " 0   MAL_ID         17562 non-null  int64 \n",
      " 1   Name           17562 non-null  object\n",
      " 2   Score          17562 non-null  object\n",
      " 3   Genres         17562 non-null  object\n",
      " 4   English name   17562 non-null  object\n",
      " 5   Japanese name  17562 non-null  object\n",
      " 6   Type           17562 non-null  object\n",
      " 7   Episodes       17562 non-null  object\n",
      " 8   Aired          17562 non-null  object\n",
      " 9   Premiered      17562 non-null  object\n",
      " 10  Producers      17562 non-null  object\n",
      " 11  Licensors      17562 non-null  object\n",
      " 12  Studios        17562 non-null  object\n",
      " 13  Source         17562 non-null  object\n",
      " 14  Duration       17562 non-null  object\n",
      " 15  Rating         17562 non-null  object\n",
      " 16  Ranked         17562 non-null  object\n",
      " 17  Popularity     17562 non-null  int64 \n",
      " 18  Members        17562 non-null  int64 \n",
      " 19  Favorites      17562 non-null  int64 \n",
      " 20  Watching       17562 non-null  int64 \n",
      " 21  Completed      17562 non-null  int64 \n",
      " 22  On-Hold        17562 non-null  int64 \n",
      " 23  Dropped        17562 non-null  int64 \n",
      " 24  Plan to Watch  17562 non-null  int64 \n",
      " 25  Score-10       17562 non-null  object\n",
      " 26  Score-9        17562 non-null  object\n",
      " 27  Score-8        17562 non-null  object\n",
      " 28  Score-7        17562 non-null  object\n",
      " 29  Score-6        17562 non-null  object\n",
      " 30  Score-5        17562 non-null  object\n",
      " 31  Score-4        17562 non-null  object\n",
      " 32  Score-3        17562 non-null  object\n",
      " 33  Score-2        17562 non-null  object\n",
      " 34  Score-1        17562 non-null  object\n",
      "dtypes: int64(9), object(26)\n",
      "memory usage: 4.7+ MB\n"
     ]
    }
   ],
   "source": [
    "df.info()"
   ]
  },
  {
   "cell_type": "markdown",
   "id": "35cfd367-77a1-441f-92ba-d21e9b044638",
   "metadata": {},
   "source": [
    "### Saya akan mengubah Atribut \"Popularity\" ###"
   ]
  },
  {
   "cell_type": "code",
   "execution_count": 142,
   "id": "bde2cddb-d2f2-4b67-b6b6-85e67ffe3a5c",
   "metadata": {},
   "outputs": [],
   "source": [
    "df['Popularity'] = df['Popularity'].astype('int64')\n",
    "pd.options.display.float_format = \"{:,.3f}\".format"
   ]
  },
  {
   "cell_type": "code",
   "execution_count": 143,
   "id": "37897b43-1add-45f7-a272-53f014c2bd81",
   "metadata": {},
   "outputs": [
    {
     "data": {
      "text/html": [
       "<div>\n",
       "<style scoped>\n",
       "    .dataframe tbody tr th:only-of-type {\n",
       "        vertical-align: middle;\n",
       "    }\n",
       "\n",
       "    .dataframe tbody tr th {\n",
       "        vertical-align: top;\n",
       "    }\n",
       "\n",
       "    .dataframe thead th {\n",
       "        text-align: right;\n",
       "    }\n",
       "</style>\n",
       "<table border=\"1\" class=\"dataframe\">\n",
       "  <thead>\n",
       "    <tr style=\"text-align: right;\">\n",
       "      <th></th>\n",
       "      <th>MAL_ID</th>\n",
       "      <th>Name</th>\n",
       "      <th>Score</th>\n",
       "      <th>Genres</th>\n",
       "      <th>English name</th>\n",
       "      <th>Japanese name</th>\n",
       "      <th>Type</th>\n",
       "      <th>Episodes</th>\n",
       "      <th>Aired</th>\n",
       "      <th>Premiered</th>\n",
       "      <th>...</th>\n",
       "      <th>Score-10</th>\n",
       "      <th>Score-9</th>\n",
       "      <th>Score-8</th>\n",
       "      <th>Score-7</th>\n",
       "      <th>Score-6</th>\n",
       "      <th>Score-5</th>\n",
       "      <th>Score-4</th>\n",
       "      <th>Score-3</th>\n",
       "      <th>Score-2</th>\n",
       "      <th>Score-1</th>\n",
       "    </tr>\n",
       "  </thead>\n",
       "  <tbody>\n",
       "    <tr>\n",
       "      <th>0</th>\n",
       "      <td>1</td>\n",
       "      <td>Cowboy Bebop</td>\n",
       "      <td>8.78</td>\n",
       "      <td>Action, Adventure, Comedy, Drama, Sci-Fi, Space</td>\n",
       "      <td>Cowboy Bebop</td>\n",
       "      <td>カウボーイビバップ</td>\n",
       "      <td>TV</td>\n",
       "      <td>26</td>\n",
       "      <td>Apr 3, 1998 to Apr 24, 1999</td>\n",
       "      <td>Spring 1998</td>\n",
       "      <td>...</td>\n",
       "      <td>229170</td>\n",
       "      <td>182126</td>\n",
       "      <td>131625</td>\n",
       "      <td>62330</td>\n",
       "      <td>20688</td>\n",
       "      <td>8904</td>\n",
       "      <td>3184</td>\n",
       "      <td>1357</td>\n",
       "      <td>741</td>\n",
       "      <td>1580</td>\n",
       "    </tr>\n",
       "    <tr>\n",
       "      <th>1</th>\n",
       "      <td>5</td>\n",
       "      <td>Cowboy Bebop: Tengoku no Tobira</td>\n",
       "      <td>8.39</td>\n",
       "      <td>Action, Drama, Mystery, Sci-Fi, Space</td>\n",
       "      <td>Cowboy Bebop:The Movie</td>\n",
       "      <td>カウボーイビバップ 天国の扉</td>\n",
       "      <td>Movie</td>\n",
       "      <td>1</td>\n",
       "      <td>1-Sep-01</td>\n",
       "      <td>Unknown</td>\n",
       "      <td>...</td>\n",
       "      <td>30043</td>\n",
       "      <td>49201</td>\n",
       "      <td>49505</td>\n",
       "      <td>22632</td>\n",
       "      <td>5805</td>\n",
       "      <td>1877</td>\n",
       "      <td>577</td>\n",
       "      <td>221</td>\n",
       "      <td>109</td>\n",
       "      <td>379</td>\n",
       "    </tr>\n",
       "    <tr>\n",
       "      <th>2</th>\n",
       "      <td>6</td>\n",
       "      <td>Trigun</td>\n",
       "      <td>8.24</td>\n",
       "      <td>Action, Sci-Fi, Adventure, Comedy, Drama, Shounen</td>\n",
       "      <td>Trigun</td>\n",
       "      <td>トライガン</td>\n",
       "      <td>TV</td>\n",
       "      <td>26</td>\n",
       "      <td>Apr 1, 1998 to Sep 30, 1998</td>\n",
       "      <td>Spring 1998</td>\n",
       "      <td>...</td>\n",
       "      <td>50229</td>\n",
       "      <td>75651</td>\n",
       "      <td>86142</td>\n",
       "      <td>49432</td>\n",
       "      <td>15376</td>\n",
       "      <td>5838</td>\n",
       "      <td>1965</td>\n",
       "      <td>664</td>\n",
       "      <td>316</td>\n",
       "      <td>533</td>\n",
       "    </tr>\n",
       "    <tr>\n",
       "      <th>3</th>\n",
       "      <td>7</td>\n",
       "      <td>Witch Hunter Robin</td>\n",
       "      <td>7.27</td>\n",
       "      <td>Action, Mystery, Police, Supernatural, Drama, ...</td>\n",
       "      <td>Witch Hunter Robin</td>\n",
       "      <td>Witch Hunter ROBIN (ウイッチハンターロビン)</td>\n",
       "      <td>TV</td>\n",
       "      <td>26</td>\n",
       "      <td>Jul 2, 2002 to Dec 24, 2002</td>\n",
       "      <td>Summer 2002</td>\n",
       "      <td>...</td>\n",
       "      <td>2182</td>\n",
       "      <td>4806</td>\n",
       "      <td>10128</td>\n",
       "      <td>11618</td>\n",
       "      <td>5709</td>\n",
       "      <td>2920</td>\n",
       "      <td>1083</td>\n",
       "      <td>353</td>\n",
       "      <td>164</td>\n",
       "      <td>131</td>\n",
       "    </tr>\n",
       "    <tr>\n",
       "      <th>4</th>\n",
       "      <td>8</td>\n",
       "      <td>Bouken Ou Beet</td>\n",
       "      <td>6.98</td>\n",
       "      <td>Adventure, Fantasy, Shounen, Supernatural</td>\n",
       "      <td>Beet the Vandel Buster</td>\n",
       "      <td>冒険王ビィト</td>\n",
       "      <td>TV</td>\n",
       "      <td>52</td>\n",
       "      <td>Sep 30, 2004 to Sep 29, 2005</td>\n",
       "      <td>Fall 2004</td>\n",
       "      <td>...</td>\n",
       "      <td>312</td>\n",
       "      <td>529</td>\n",
       "      <td>1242</td>\n",
       "      <td>1713</td>\n",
       "      <td>1068</td>\n",
       "      <td>634</td>\n",
       "      <td>265</td>\n",
       "      <td>83</td>\n",
       "      <td>50</td>\n",
       "      <td>27</td>\n",
       "    </tr>\n",
       "  </tbody>\n",
       "</table>\n",
       "<p>5 rows × 35 columns</p>\n",
       "</div>"
      ],
      "text/plain": [
       "   MAL_ID                             Name Score  \\\n",
       "0       1                     Cowboy Bebop  8.78   \n",
       "1       5  Cowboy Bebop: Tengoku no Tobira  8.39   \n",
       "2       6                           Trigun  8.24   \n",
       "3       7               Witch Hunter Robin  7.27   \n",
       "4       8                   Bouken Ou Beet  6.98   \n",
       "\n",
       "                                              Genres            English name  \\\n",
       "0    Action, Adventure, Comedy, Drama, Sci-Fi, Space            Cowboy Bebop   \n",
       "1              Action, Drama, Mystery, Sci-Fi, Space  Cowboy Bebop:The Movie   \n",
       "2  Action, Sci-Fi, Adventure, Comedy, Drama, Shounen                  Trigun   \n",
       "3  Action, Mystery, Police, Supernatural, Drama, ...      Witch Hunter Robin   \n",
       "4          Adventure, Fantasy, Shounen, Supernatural  Beet the Vandel Buster   \n",
       "\n",
       "                      Japanese name   Type Episodes  \\\n",
       "0                         カウボーイビバップ     TV       26   \n",
       "1                    カウボーイビバップ 天国の扉  Movie        1   \n",
       "2                             トライガン     TV       26   \n",
       "3  Witch Hunter ROBIN (ウイッチハンターロビン)     TV       26   \n",
       "4                            冒険王ビィト     TV       52   \n",
       "\n",
       "                          Aired    Premiered  ... Score-10 Score-9 Score-8  \\\n",
       "0   Apr 3, 1998 to Apr 24, 1999  Spring 1998  ...   229170  182126  131625   \n",
       "1                      1-Sep-01      Unknown  ...    30043   49201   49505   \n",
       "2   Apr 1, 1998 to Sep 30, 1998  Spring 1998  ...    50229   75651   86142   \n",
       "3   Jul 2, 2002 to Dec 24, 2002  Summer 2002  ...     2182    4806   10128   \n",
       "4  Sep 30, 2004 to Sep 29, 2005    Fall 2004  ...      312     529    1242   \n",
       "\n",
       "  Score-7 Score-6 Score-5 Score-4  Score-3  Score-2  Score-1  \n",
       "0   62330   20688    8904    3184     1357      741     1580  \n",
       "1   22632    5805    1877     577      221      109      379  \n",
       "2   49432   15376    5838    1965      664      316      533  \n",
       "3   11618    5709    2920    1083      353      164      131  \n",
       "4    1713    1068     634     265       83       50       27  \n",
       "\n",
       "[5 rows x 35 columns]"
      ]
     },
     "execution_count": 143,
     "metadata": {},
     "output_type": "execute_result"
    }
   ],
   "source": [
    "df.head(5)"
   ]
  },
  {
   "cell_type": "markdown",
   "id": "5809b86d-9dfe-49e6-b3a2-81b3ab24b15d",
   "metadata": {},
   "source": [
    "## Menampilkan 10 record pertama dari attribute bertipe angka ##"
   ]
  },
  {
   "cell_type": "code",
   "execution_count": 144,
   "id": "bb818795-e47b-4ad0-9b86-4744d72e6b83",
   "metadata": {},
   "outputs": [],
   "source": [
    "DataAngka = df.select_dtypes(include=np.number)"
   ]
  },
  {
   "cell_type": "code",
   "execution_count": 145,
   "id": "96039d81-5e6e-46f7-aa5b-b36e42643bf8",
   "metadata": {},
   "outputs": [
    {
     "data": {
      "text/html": [
       "<div>\n",
       "<style scoped>\n",
       "    .dataframe tbody tr th:only-of-type {\n",
       "        vertical-align: middle;\n",
       "    }\n",
       "\n",
       "    .dataframe tbody tr th {\n",
       "        vertical-align: top;\n",
       "    }\n",
       "\n",
       "    .dataframe thead th {\n",
       "        text-align: right;\n",
       "    }\n",
       "</style>\n",
       "<table border=\"1\" class=\"dataframe\">\n",
       "  <thead>\n",
       "    <tr style=\"text-align: right;\">\n",
       "      <th></th>\n",
       "      <th>MAL_ID</th>\n",
       "      <th>Popularity</th>\n",
       "      <th>Members</th>\n",
       "      <th>Favorites</th>\n",
       "      <th>Watching</th>\n",
       "      <th>Completed</th>\n",
       "      <th>On-Hold</th>\n",
       "      <th>Dropped</th>\n",
       "      <th>Plan to Watch</th>\n",
       "    </tr>\n",
       "  </thead>\n",
       "  <tbody>\n",
       "    <tr>\n",
       "      <th>0</th>\n",
       "      <td>1</td>\n",
       "      <td>39</td>\n",
       "      <td>1251960</td>\n",
       "      <td>61971</td>\n",
       "      <td>105808</td>\n",
       "      <td>718161</td>\n",
       "      <td>71513</td>\n",
       "      <td>26678</td>\n",
       "      <td>329800</td>\n",
       "    </tr>\n",
       "    <tr>\n",
       "      <th>1</th>\n",
       "      <td>5</td>\n",
       "      <td>518</td>\n",
       "      <td>273145</td>\n",
       "      <td>1174</td>\n",
       "      <td>4143</td>\n",
       "      <td>208333</td>\n",
       "      <td>1935</td>\n",
       "      <td>770</td>\n",
       "      <td>57964</td>\n",
       "    </tr>\n",
       "    <tr>\n",
       "      <th>2</th>\n",
       "      <td>6</td>\n",
       "      <td>201</td>\n",
       "      <td>558913</td>\n",
       "      <td>12944</td>\n",
       "      <td>29113</td>\n",
       "      <td>343492</td>\n",
       "      <td>25465</td>\n",
       "      <td>13925</td>\n",
       "      <td>146918</td>\n",
       "    </tr>\n",
       "    <tr>\n",
       "      <th>3</th>\n",
       "      <td>7</td>\n",
       "      <td>1467</td>\n",
       "      <td>94683</td>\n",
       "      <td>587</td>\n",
       "      <td>4300</td>\n",
       "      <td>46165</td>\n",
       "      <td>5121</td>\n",
       "      <td>5378</td>\n",
       "      <td>33719</td>\n",
       "    </tr>\n",
       "    <tr>\n",
       "      <th>4</th>\n",
       "      <td>8</td>\n",
       "      <td>4369</td>\n",
       "      <td>13224</td>\n",
       "      <td>18</td>\n",
       "      <td>642</td>\n",
       "      <td>7314</td>\n",
       "      <td>766</td>\n",
       "      <td>1108</td>\n",
       "      <td>3394</td>\n",
       "    </tr>\n",
       "    <tr>\n",
       "      <th>5</th>\n",
       "      <td>15</td>\n",
       "      <td>1003</td>\n",
       "      <td>148259</td>\n",
       "      <td>2066</td>\n",
       "      <td>13907</td>\n",
       "      <td>78349</td>\n",
       "      <td>14228</td>\n",
       "      <td>11573</td>\n",
       "      <td>30202</td>\n",
       "    </tr>\n",
       "    <tr>\n",
       "      <th>6</th>\n",
       "      <td>16</td>\n",
       "      <td>687</td>\n",
       "      <td>214499</td>\n",
       "      <td>4101</td>\n",
       "      <td>11909</td>\n",
       "      <td>81145</td>\n",
       "      <td>11901</td>\n",
       "      <td>11026</td>\n",
       "      <td>98518</td>\n",
       "    </tr>\n",
       "    <tr>\n",
       "      <th>7</th>\n",
       "      <td>17</td>\n",
       "      <td>3612</td>\n",
       "      <td>20470</td>\n",
       "      <td>231</td>\n",
       "      <td>817</td>\n",
       "      <td>13778</td>\n",
       "      <td>828</td>\n",
       "      <td>1168</td>\n",
       "      <td>3879</td>\n",
       "    </tr>\n",
       "    <tr>\n",
       "      <th>8</th>\n",
       "      <td>18</td>\n",
       "      <td>1233</td>\n",
       "      <td>117929</td>\n",
       "      <td>979</td>\n",
       "      <td>6082</td>\n",
       "      <td>90967</td>\n",
       "      <td>3053</td>\n",
       "      <td>1356</td>\n",
       "      <td>16471</td>\n",
       "    </tr>\n",
       "    <tr>\n",
       "      <th>9</th>\n",
       "      <td>19</td>\n",
       "      <td>169</td>\n",
       "      <td>614100</td>\n",
       "      <td>29436</td>\n",
       "      <td>64648</td>\n",
       "      <td>214491</td>\n",
       "      <td>47488</td>\n",
       "      <td>23008</td>\n",
       "      <td>264465</td>\n",
       "    </tr>\n",
       "  </tbody>\n",
       "</table>\n",
       "</div>"
      ],
      "text/plain": [
       "   MAL_ID  Popularity  Members  Favorites  Watching  Completed  On-Hold  \\\n",
       "0       1          39  1251960      61971    105808     718161    71513   \n",
       "1       5         518   273145       1174      4143     208333     1935   \n",
       "2       6         201   558913      12944     29113     343492    25465   \n",
       "3       7        1467    94683        587      4300      46165     5121   \n",
       "4       8        4369    13224         18       642       7314      766   \n",
       "5      15        1003   148259       2066     13907      78349    14228   \n",
       "6      16         687   214499       4101     11909      81145    11901   \n",
       "7      17        3612    20470        231       817      13778      828   \n",
       "8      18        1233   117929        979      6082      90967     3053   \n",
       "9      19         169   614100      29436     64648     214491    47488   \n",
       "\n",
       "   Dropped  Plan to Watch  \n",
       "0    26678         329800  \n",
       "1      770          57964  \n",
       "2    13925         146918  \n",
       "3     5378          33719  \n",
       "4     1108           3394  \n",
       "5    11573          30202  \n",
       "6    11026          98518  \n",
       "7     1168           3879  \n",
       "8     1356          16471  \n",
       "9    23008         264465  "
      ]
     },
     "execution_count": 145,
     "metadata": {},
     "output_type": "execute_result"
    }
   ],
   "source": [
    "DataAngka.head(10)"
   ]
  },
  {
   "cell_type": "markdown",
   "id": "29f3632e-0747-4a0c-b9cd-71c7694aa415",
   "metadata": {},
   "source": [
    "## Menyimpan Dataset dengan Atribut bertipe angka kedalam file CSV. ##"
   ]
  },
  {
   "cell_type": "code",
   "execution_count": 150,
   "id": "7d639d5e-a5de-43da-b77b-c0751b6eabf2",
   "metadata": {},
   "outputs": [],
   "source": [
    "df[['MAL_ID', 'Popularity', 'Members', 'Favorites', 'Watching', 'Completed', 'On-Hold', 'Dropped', 'Plan to Watch']].to_csv(\"Atribut_Angka_DatasetAnime.csv\")"
   ]
  },
  {
   "cell_type": "code",
   "execution_count": null,
   "id": "bf4fdc37-1980-4197-bc78-60376d48e1a2",
   "metadata": {},
   "outputs": [],
   "source": []
  }
 ],
 "metadata": {
  "kernelspec": {
   "display_name": "dimasarya_019",
   "language": "python",
   "name": "dimasarya_019"
  },
  "language_info": {
   "codemirror_mode": {
    "name": "ipython",
    "version": 3
   },
   "file_extension": ".py",
   "mimetype": "text/x-python",
   "name": "python",
   "nbconvert_exporter": "python",
   "pygments_lexer": "ipython3",
   "version": "3.10.7"
  }
 },
 "nbformat": 4,
 "nbformat_minor": 5
}
