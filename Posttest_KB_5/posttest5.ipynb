{
 "cells": [
  {
   "cell_type": "markdown",
   "id": "e5340aa9-389c-403b-aca1-7936968f5567",
   "metadata": {},
   "source": [
    "# Nama : Dimas Arya Nugraha"
   ]
  },
  {
   "cell_type": "markdown",
   "id": "79e1aa23-8532-4337-966f-0be81a11bb49",
   "metadata": {},
   "source": [
    "# Nim : 2109106019"
   ]
  },
  {
   "cell_type": "markdown",
   "id": "91c220f1-7499-4f32-b740-1e21b45a730f",
   "metadata": {},
   "source": [
    "# POSTTEST 5 Supervised Learning"
   ]
  },
  {
   "cell_type": "markdown",
   "id": "afb17a4f-ef26-4b20-8c78-543b669fcc7f",
   "metadata": {},
   "source": [
    "#"
   ]
  },
  {
   "cell_type": "markdown",
   "id": "0ba6343e-fdea-419d-8d8d-c4cdd562bdbb",
   "metadata": {},
   "source": [
    "## Import Library"
   ]
  },
  {
   "cell_type": "code",
   "execution_count": 49,
   "id": "41688f01-1521-47a1-90fc-aea5927ff6c9",
   "metadata": {},
   "outputs": [],
   "source": [
    "import pandas as pd\n",
    "import seaborn as sns"
   ]
  },
  {
   "cell_type": "markdown",
   "id": "98212682-f3bc-4716-ac41-f364913a1ae1",
   "metadata": {},
   "source": [
    "## Import Dataset"
   ]
  },
  {
   "cell_type": "code",
   "execution_count": 50,
   "id": "e759cf3a-2e0a-46e7-9b7a-cf21a20d6669",
   "metadata": {},
   "outputs": [
    {
     "data": {
      "text/html": [
       "<div>\n",
       "<style scoped>\n",
       "    .dataframe tbody tr th:only-of-type {\n",
       "        vertical-align: middle;\n",
       "    }\n",
       "\n",
       "    .dataframe tbody tr th {\n",
       "        vertical-align: top;\n",
       "    }\n",
       "\n",
       "    .dataframe thead th {\n",
       "        text-align: right;\n",
       "    }\n",
       "</style>\n",
       "<table border=\"1\" class=\"dataframe\">\n",
       "  <thead>\n",
       "    <tr style=\"text-align: right;\">\n",
       "      <th></th>\n",
       "      <th>long_hair</th>\n",
       "      <th>forehead_width_cm</th>\n",
       "      <th>forehead_height_cm</th>\n",
       "      <th>nose_wide</th>\n",
       "      <th>nose_long</th>\n",
       "      <th>lips_thin</th>\n",
       "      <th>distance_nose_to_lip_long</th>\n",
       "      <th>gender</th>\n",
       "    </tr>\n",
       "  </thead>\n",
       "  <tbody>\n",
       "    <tr>\n",
       "      <th>0</th>\n",
       "      <td>1</td>\n",
       "      <td>11.8</td>\n",
       "      <td>6.1</td>\n",
       "      <td>1</td>\n",
       "      <td>0</td>\n",
       "      <td>1</td>\n",
       "      <td>1</td>\n",
       "      <td>Male</td>\n",
       "    </tr>\n",
       "    <tr>\n",
       "      <th>1</th>\n",
       "      <td>0</td>\n",
       "      <td>14.0</td>\n",
       "      <td>5.4</td>\n",
       "      <td>0</td>\n",
       "      <td>0</td>\n",
       "      <td>1</td>\n",
       "      <td>0</td>\n",
       "      <td>Female</td>\n",
       "    </tr>\n",
       "    <tr>\n",
       "      <th>2</th>\n",
       "      <td>0</td>\n",
       "      <td>11.8</td>\n",
       "      <td>6.3</td>\n",
       "      <td>1</td>\n",
       "      <td>1</td>\n",
       "      <td>1</td>\n",
       "      <td>1</td>\n",
       "      <td>Male</td>\n",
       "    </tr>\n",
       "    <tr>\n",
       "      <th>3</th>\n",
       "      <td>0</td>\n",
       "      <td>14.4</td>\n",
       "      <td>6.1</td>\n",
       "      <td>0</td>\n",
       "      <td>1</td>\n",
       "      <td>1</td>\n",
       "      <td>1</td>\n",
       "      <td>Male</td>\n",
       "    </tr>\n",
       "    <tr>\n",
       "      <th>4</th>\n",
       "      <td>1</td>\n",
       "      <td>13.5</td>\n",
       "      <td>5.9</td>\n",
       "      <td>0</td>\n",
       "      <td>0</td>\n",
       "      <td>0</td>\n",
       "      <td>0</td>\n",
       "      <td>Female</td>\n",
       "    </tr>\n",
       "  </tbody>\n",
       "</table>\n",
       "</div>"
      ],
      "text/plain": [
       "   long_hair  forehead_width_cm  forehead_height_cm  nose_wide  nose_long  \\\n",
       "0          1               11.8                 6.1          1          0   \n",
       "1          0               14.0                 5.4          0          0   \n",
       "2          0               11.8                 6.3          1          1   \n",
       "3          0               14.4                 6.1          0          1   \n",
       "4          1               13.5                 5.9          0          0   \n",
       "\n",
       "   lips_thin  distance_nose_to_lip_long  gender  \n",
       "0          1                          1    Male  \n",
       "1          1                          0  Female  \n",
       "2          1                          1    Male  \n",
       "3          1                          1    Male  \n",
       "4          0                          0  Female  "
      ]
     },
     "execution_count": 50,
     "metadata": {},
     "output_type": "execute_result"
    }
   ],
   "source": [
    "df = pd.read_csv(\"gender_classification_v7.csv\")\n",
    "df.head()"
   ]
  },
  {
   "cell_type": "markdown",
   "id": "6b3c8417-b9e4-4a9c-be3d-81624c309491",
   "metadata": {},
   "source": [
    "### Melihat Tipe Data Atribut"
   ]
  },
  {
   "cell_type": "code",
   "execution_count": 51,
   "id": "25412ea6-5bfe-4bbf-bdaa-26f372f45d85",
   "metadata": {},
   "outputs": [
    {
     "name": "stdout",
     "output_type": "stream",
     "text": [
      "<class 'pandas.core.frame.DataFrame'>\n",
      "RangeIndex: 5001 entries, 0 to 5000\n",
      "Data columns (total 8 columns):\n",
      " #   Column                     Non-Null Count  Dtype  \n",
      "---  ------                     --------------  -----  \n",
      " 0   long_hair                  5001 non-null   int64  \n",
      " 1   forehead_width_cm          5001 non-null   float64\n",
      " 2   forehead_height_cm         5001 non-null   float64\n",
      " 3   nose_wide                  5001 non-null   int64  \n",
      " 4   nose_long                  5001 non-null   int64  \n",
      " 5   lips_thin                  5001 non-null   int64  \n",
      " 6   distance_nose_to_lip_long  5001 non-null   int64  \n",
      " 7   gender                     5001 non-null   object \n",
      "dtypes: float64(2), int64(5), object(1)\n",
      "memory usage: 312.7+ KB\n"
     ]
    }
   ],
   "source": [
    "df.info()"
   ]
  },
  {
   "cell_type": "markdown",
   "id": "268e0dd1-7764-4aa8-8438-9ec4954ec39c",
   "metadata": {},
   "source": [
    "#"
   ]
  },
  {
   "cell_type": "markdown",
   "id": "3cbe686f-4e1a-4c7d-8f53-2c61f7edcdde",
   "metadata": {},
   "source": [
    "# Standarisasi Dataset dan Encode"
   ]
  },
  {
   "cell_type": "code",
   "execution_count": 52,
   "id": "7a58ca9b-5c48-4477-9310-7be19d81f6df",
   "metadata": {},
   "outputs": [],
   "source": [
    "from sklearn.preprocessing import MinMaxScaler,OrdinalEncoder\n",
    "\n",
    "std = MinMaxScaler(feature_range=(0,1))\n",
    "df[[\"forehead_width_cm\", \"forehead_height_cm\"]] = std.fit_transform(df[[\"forehead_width_cm\", \"forehead_height_cm\"]])\n",
    "\n",
    "enc = OrdinalEncoder()\n",
    "df[[\"gender\"]] = enc.fit_transform(df[[\"gender\"]])"
   ]
  },
  {
   "cell_type": "code",
   "execution_count": 53,
   "id": "ec2539b9-9c3e-4e04-80e3-97d5b1b086f8",
   "metadata": {},
   "outputs": [
    {
     "data": {
      "text/html": [
       "<div>\n",
       "<style scoped>\n",
       "    .dataframe tbody tr th:only-of-type {\n",
       "        vertical-align: middle;\n",
       "    }\n",
       "\n",
       "    .dataframe tbody tr th {\n",
       "        vertical-align: top;\n",
       "    }\n",
       "\n",
       "    .dataframe thead th {\n",
       "        text-align: right;\n",
       "    }\n",
       "</style>\n",
       "<table border=\"1\" class=\"dataframe\">\n",
       "  <thead>\n",
       "    <tr style=\"text-align: right;\">\n",
       "      <th></th>\n",
       "      <th>long_hair</th>\n",
       "      <th>forehead_width_cm</th>\n",
       "      <th>forehead_height_cm</th>\n",
       "      <th>nose_wide</th>\n",
       "      <th>nose_long</th>\n",
       "      <th>lips_thin</th>\n",
       "      <th>distance_nose_to_lip_long</th>\n",
       "      <th>gender</th>\n",
       "    </tr>\n",
       "  </thead>\n",
       "  <tbody>\n",
       "    <tr>\n",
       "      <th>0</th>\n",
       "      <td>1</td>\n",
       "      <td>0.097561</td>\n",
       "      <td>0.50</td>\n",
       "      <td>1</td>\n",
       "      <td>0</td>\n",
       "      <td>1</td>\n",
       "      <td>1</td>\n",
       "      <td>1.0</td>\n",
       "    </tr>\n",
       "    <tr>\n",
       "      <th>1</th>\n",
       "      <td>0</td>\n",
       "      <td>0.634146</td>\n",
       "      <td>0.15</td>\n",
       "      <td>0</td>\n",
       "      <td>0</td>\n",
       "      <td>1</td>\n",
       "      <td>0</td>\n",
       "      <td>0.0</td>\n",
       "    </tr>\n",
       "    <tr>\n",
       "      <th>2</th>\n",
       "      <td>0</td>\n",
       "      <td>0.097561</td>\n",
       "      <td>0.60</td>\n",
       "      <td>1</td>\n",
       "      <td>1</td>\n",
       "      <td>1</td>\n",
       "      <td>1</td>\n",
       "      <td>1.0</td>\n",
       "    </tr>\n",
       "    <tr>\n",
       "      <th>3</th>\n",
       "      <td>0</td>\n",
       "      <td>0.731707</td>\n",
       "      <td>0.50</td>\n",
       "      <td>0</td>\n",
       "      <td>1</td>\n",
       "      <td>1</td>\n",
       "      <td>1</td>\n",
       "      <td>1.0</td>\n",
       "    </tr>\n",
       "    <tr>\n",
       "      <th>4</th>\n",
       "      <td>1</td>\n",
       "      <td>0.512195</td>\n",
       "      <td>0.40</td>\n",
       "      <td>0</td>\n",
       "      <td>0</td>\n",
       "      <td>0</td>\n",
       "      <td>0</td>\n",
       "      <td>0.0</td>\n",
       "    </tr>\n",
       "    <tr>\n",
       "      <th>...</th>\n",
       "      <td>...</td>\n",
       "      <td>...</td>\n",
       "      <td>...</td>\n",
       "      <td>...</td>\n",
       "      <td>...</td>\n",
       "      <td>...</td>\n",
       "      <td>...</td>\n",
       "      <td>...</td>\n",
       "    </tr>\n",
       "    <tr>\n",
       "      <th>4996</th>\n",
       "      <td>1</td>\n",
       "      <td>0.536585</td>\n",
       "      <td>0.00</td>\n",
       "      <td>0</td>\n",
       "      <td>0</td>\n",
       "      <td>0</td>\n",
       "      <td>0</td>\n",
       "      <td>0.0</td>\n",
       "    </tr>\n",
       "    <tr>\n",
       "      <th>4997</th>\n",
       "      <td>1</td>\n",
       "      <td>0.121951</td>\n",
       "      <td>0.15</td>\n",
       "      <td>0</td>\n",
       "      <td>0</td>\n",
       "      <td>0</td>\n",
       "      <td>0</td>\n",
       "      <td>0.0</td>\n",
       "    </tr>\n",
       "    <tr>\n",
       "      <th>4998</th>\n",
       "      <td>1</td>\n",
       "      <td>0.365854</td>\n",
       "      <td>0.30</td>\n",
       "      <td>0</td>\n",
       "      <td>0</td>\n",
       "      <td>0</td>\n",
       "      <td>0</td>\n",
       "      <td>0.0</td>\n",
       "    </tr>\n",
       "    <tr>\n",
       "      <th>4999</th>\n",
       "      <td>1</td>\n",
       "      <td>0.439024</td>\n",
       "      <td>0.55</td>\n",
       "      <td>0</td>\n",
       "      <td>0</td>\n",
       "      <td>0</td>\n",
       "      <td>0</td>\n",
       "      <td>0.0</td>\n",
       "    </tr>\n",
       "    <tr>\n",
       "      <th>5000</th>\n",
       "      <td>1</td>\n",
       "      <td>0.975610</td>\n",
       "      <td>0.15</td>\n",
       "      <td>1</td>\n",
       "      <td>1</td>\n",
       "      <td>1</td>\n",
       "      <td>1</td>\n",
       "      <td>1.0</td>\n",
       "    </tr>\n",
       "  </tbody>\n",
       "</table>\n",
       "<p>5001 rows × 8 columns</p>\n",
       "</div>"
      ],
      "text/plain": [
       "      long_hair  forehead_width_cm  forehead_height_cm  nose_wide  nose_long  \\\n",
       "0             1           0.097561                0.50          1          0   \n",
       "1             0           0.634146                0.15          0          0   \n",
       "2             0           0.097561                0.60          1          1   \n",
       "3             0           0.731707                0.50          0          1   \n",
       "4             1           0.512195                0.40          0          0   \n",
       "...         ...                ...                 ...        ...        ...   \n",
       "4996          1           0.536585                0.00          0          0   \n",
       "4997          1           0.121951                0.15          0          0   \n",
       "4998          1           0.365854                0.30          0          0   \n",
       "4999          1           0.439024                0.55          0          0   \n",
       "5000          1           0.975610                0.15          1          1   \n",
       "\n",
       "      lips_thin  distance_nose_to_lip_long  gender  \n",
       "0             1                          1     1.0  \n",
       "1             1                          0     0.0  \n",
       "2             1                          1     1.0  \n",
       "3             1                          1     1.0  \n",
       "4             0                          0     0.0  \n",
       "...         ...                        ...     ...  \n",
       "4996          0                          0     0.0  \n",
       "4997          0                          0     0.0  \n",
       "4998          0                          0     0.0  \n",
       "4999          0                          0     0.0  \n",
       "5000          1                          1     1.0  \n",
       "\n",
       "[5001 rows x 8 columns]"
      ]
     },
     "execution_count": 53,
     "metadata": {},
     "output_type": "execute_result"
    }
   ],
   "source": [
    "df"
   ]
  },
  {
   "cell_type": "markdown",
   "id": "cf47d70e-7fbe-4f46-b0cf-aacb5ddce1ff",
   "metadata": {},
   "source": [
    "#"
   ]
  },
  {
   "cell_type": "markdown",
   "id": "7105a3d8-ab47-4c57-9d9c-1967efc70b6a",
   "metadata": {},
   "source": [
    "# Data Splitting"
   ]
  },
  {
   "cell_type": "code",
   "execution_count": 54,
   "id": "02e55771-a7c5-42bd-b621-70b3f1140e4f",
   "metadata": {},
   "outputs": [],
   "source": [
    "from sklearn.model_selection import train_test_split\n",
    "\n",
    "x = df.drop('gender',axis=1)\n",
    "y = df[\"gender\"]\n",
    "\n",
    "x_train, x_test, y_train, y_test = train_test_split(x, y, test_size=0.3, random_state=0)"
   ]
  },
  {
   "cell_type": "markdown",
   "id": "a9909a49-8a4a-4d7e-a524-73254e2a30b1",
   "metadata": {},
   "source": [
    "#"
   ]
  },
  {
   "cell_type": "markdown",
   "id": "44ec76c3-aa8d-47d2-9d4c-4bcd476c652e",
   "metadata": {},
   "source": [
    "# Classification"
   ]
  },
  {
   "cell_type": "markdown",
   "id": "d2c984c9-7cf1-46b3-a59a-1511395f3091",
   "metadata": {},
   "source": [
    "## K-Nearest Neighbours"
   ]
  },
  {
   "cell_type": "code",
   "execution_count": 55,
   "id": "f4e25b50-6480-4297-ac9d-64de06d49d3e",
   "metadata": {},
   "outputs": [
    {
     "name": "stdout",
     "output_type": "stream",
     "text": [
      "Akurasi dari K-NN : 96.86875416389074 %\n"
     ]
    }
   ],
   "source": [
    "from sklearn.neighbors import KNeighborsClassifier\n",
    "from sklearn.metrics import accuracy_score\n",
    "\n",
    "knn = KNeighborsClassifier(n_neighbors=9).fit(x_train, y_train)\n",
    "predict_knn = knn.predict(x_test)\n",
    "print(\"Akurasi dari K-NN :\", accuracy_score(y_test, predict_knn)*100, \"%\")"
   ]
  },
  {
   "cell_type": "markdown",
   "id": "1d6adc89-9fa0-4e38-a12d-664d0e71b9de",
   "metadata": {},
   "source": [
    "###"
   ]
  },
  {
   "cell_type": "markdown",
   "id": "f5cbf27c-a7b0-463a-b31c-7893d5404e26",
   "metadata": {},
   "source": [
    "## Naive Bayes"
   ]
  },
  {
   "cell_type": "code",
   "execution_count": 56,
   "id": "b940a3f7-31c3-4b87-b7ef-119e4ebcaa8c",
   "metadata": {},
   "outputs": [
    {
     "name": "stdout",
     "output_type": "stream",
     "text": [
      "akurasi dari Naive Bayes  :  97.06862091938707 %\n"
     ]
    }
   ],
   "source": [
    "from sklearn.naive_bayes import GaussianNB\n",
    "\n",
    "nb = GaussianNB().fit(x_train, y_train)\n",
    "pred_nb = nb.predict(x_test)\n",
    "print(\"akurasi dari Naive Bayes  : \", accuracy_score(y_test, pred_nb)*100,\"%\")"
   ]
  },
  {
   "cell_type": "markdown",
   "id": "7c2da0be-b3a8-4b8b-81a2-c9a3d7b5b6ae",
   "metadata": {},
   "source": [
    "###"
   ]
  },
  {
   "cell_type": "markdown",
   "id": "ae7f8a34-40de-4260-ab10-f0e60ec626b8",
   "metadata": {},
   "source": [
    "## Decision Tree"
   ]
  },
  {
   "cell_type": "code",
   "execution_count": 57,
   "id": "e32c9230-145b-460f-9e29-6c651ed27711",
   "metadata": {},
   "outputs": [
    {
     "name": "stdout",
     "output_type": "stream",
     "text": [
      "Akurasi dari Decision Tree:  96.53564290473018 %\n"
     ]
    }
   ],
   "source": [
    "from sklearn.tree import DecisionTreeClassifier\n",
    "\n",
    "model_tree=DecisionTreeClassifier().fit(x_train,y_train)\n",
    "predict_tree=model_tree.predict(x_test)\n",
    "print(\"Akurasi dari Decision Tree: \",accuracy_score(predict_tree,y_test)*100,\"%\")"
   ]
  },
  {
   "cell_type": "markdown",
   "id": "3b4bc335-0326-4de1-9f60-337b7cc04f26",
   "metadata": {},
   "source": [
    "#### "
   ]
  },
  {
   "cell_type": "markdown",
   "id": "bac928c6-b715-46a2-ad12-29fda5737a0e",
   "metadata": {},
   "source": [
    "# Perbandingan Antara 3 Algoritma (KNN, Naive Bayes dan Decision Tree)"
   ]
  },
  {
   "cell_type": "code",
   "execution_count": 58,
   "id": "0119ee07-6efd-4da7-99c3-f10e79047dfd",
   "metadata": {},
   "outputs": [
    {
     "name": "stdout",
     "output_type": "stream",
     "text": [
      "Akurasi dari K-NN           : 96.86875416389074 %\n",
      "akurasi dari Naive Bayes    :  97.06862091938707 %\n",
      "Akurasi dari Decision Tree  :  96.53564290473018 %\n"
     ]
    }
   ],
   "source": [
    "print(\"Akurasi dari K-NN           :\", accuracy_score(y_test, predict_knn)*100, \"%\")\n",
    "print(\"akurasi dari Naive Bayes    : \", accuracy_score(y_test, pred_nb)*100,\"%\")\n",
    "print(\"Akurasi dari Decision Tree  : \",accuracy_score(predict_tree,y_test)*100,\"%\")"
   ]
  },
  {
   "cell_type": "markdown",
   "id": "005a05a8-3ac8-4879-868a-44675ddeb3b9",
   "metadata": {},
   "source": [
    "#### Sehingga didapatkan kesimpulan ketiga algoritma dapat menghasilkan akurasi skor diatas 95% dengan perbedaan yang sangat tipis"
   ]
  }
 ],
 "metadata": {
  "kernelspec": {
   "display_name": "dimasarya_019",
   "language": "python",
   "name": "dimasarya_019"
  },
  "language_info": {
   "codemirror_mode": {
    "name": "ipython",
    "version": 3
   },
   "file_extension": ".py",
   "mimetype": "text/x-python",
   "name": "python",
   "nbconvert_exporter": "python",
   "pygments_lexer": "ipython3",
   "version": "3.10.7"
  }
 },
 "nbformat": 4,
 "nbformat_minor": 5
}
